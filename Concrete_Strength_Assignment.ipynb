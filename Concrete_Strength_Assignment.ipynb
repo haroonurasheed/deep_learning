{
 "cells": [
  {
   "cell_type": "markdown",
   "metadata": {
    "id": "nnlyIQflOZJG"
   },
   "source": [
    "# Assignment: Compresive Strength Concrete Problem\n",
    "\n",
    "\n",
    "### Abstract: \n",
    "\n",
    "Concrete is the most important material in civil engineering. The concrete compressive strength (concrete strength to bear the load) is a highly nonlinear function of age and ingredients.  <br><br>\n",
    "\n",
    "<table border=\"1\"  cellpadding=\"6\" bordercolor=\"red\">\n",
    "\t<tbody>\n",
    "        <tr>\n",
    "\t\t<td bgcolor=\"#DDEEFF\"><p class=\"normal\"><b>Data Set Characteristics:&nbsp;&nbsp;</b></p></td>\n",
    "\t\t<td><p class=\"normal\">Multivariate</p></td>\n",
    "\t\t<td bgcolor=\"#DDEEFF\"><p class=\"normal\"><b>Number of Instances:</b></p></td>\n",
    "\t\t<td><p class=\"normal\">1030</p></td>\n",
    "\t\t<td bgcolor=\"#DDEEFF\"><p class=\"normal\"><b>Area:</b></p></td>\n",
    "\t\t<td><p class=\"normal\">Physical</p></td>\n",
    "        </tr>\n",
    "     </tbody>\n",
    "    </table>\n",
    "<table border=\"1\" cellpadding=\"6\">\n",
    "    <tbody>\n",
    "        <tr>\n",
    "            <td bgcolor=\"#DDEEFF\"><p class=\"normal\"><b>Attribute Characteristics:</b></p></td>\n",
    "            <td><p class=\"normal\">Real</p></td>\n",
    "            <td bgcolor=\"#DDEEFF\"><p class=\"normal\"><b>Number of Attributes:</b></p></td>\n",
    "            <td><p class=\"normal\">9</p></td>\n",
    "            <td bgcolor=\"#DDEEFF\"><p class=\"normal\"><b>Date Donated</b></p></td>\n",
    "            <td><p class=\"normal\">2007-08-03</p></td>\n",
    "        </tr>\n",
    "     </tbody>\n",
    "    </table>\n",
    "<table border=\"1\" cellpadding=\"6\">\t\n",
    "    <tbody>\n",
    "    <tr>\n",
    "\t\t<td bgcolor=\"#DDEEFF\"><p class=\"normal\"><b>Associated Tasks:</b></p></td>\n",
    "\t\t<td><p class=\"normal\">Regression</p></td>\n",
    "\t\t<td bgcolor=\"#DDEEFF\"><p class=\"normal\"><b>Missing Values?</b></p></td>\n",
    "\t\t<td><p class=\"normal\">N/A</p></td>\n",
    "\t\t<td bgcolor=\"#DDEEFF\"><p class=\"normal\"><b>Number of Web Hits:</b></p></td>\n",
    "\t\t<td><p class=\"normal\">231464</p></td>\n",
    "\t</tr>\n",
    "    </tbody>\n",
    "    </table>"
   ]
  },
  {
   "cell_type": "markdown",
   "metadata": {
    "id": "wDVdvMBAOZJL"
   },
   "source": [
    "###  Description:\n",
    "| Features Name | Data Type | Measurement | Description |\n",
    "| -- | -- | -- | -- |\n",
    "Cement (component 1) | quantitative | kg in a m3 mixture | Input Variable\n",
    "Blast Furnace Slag (component 2) | quantitative | kg in a m3 mixture | Input Variable\n",
    "Fly Ash (component 3) | quantitative | kg in a m3 mixture | Input Variable\n",
    "Water (component 4) | quantitative | kg in a m3 mixture | Input Variable\n",
    "Superplasticizer (component 5) | quantitative | kg in a m3 mixture | Input Variable\n",
    "Coarse Aggregate (component 6) | quantitative | kg in a m3 mixture | Input Variable\n",
    "Fine Aggregate (component 7) | quantitative | kg in a m3 mixture | Input Variable\n",
    "Age | quantitative | Day (1~365) | Input Variable\n",
    "Concrete compressive strength | quantitative | MPa | Output Variable\n",
    "\n",
    "### WORKFLOW :\n",
    "- Load Data\n",
    "- Check Missing Values ( If Exist ; Fill each record with mean of its feature )\n",
    "- Standardized the Input Variables. **Hint**: Centeralized the data\n",
    "- Split into 50% Training(Samples,Labels) , 30% Test(Samples,Labels) and 20% Validation Data(Samples,Labels).\n",
    "- Model : input Layer (No. of features ), 3 hidden layers including 10,8,6 unit & Output Layer with activation function relu/tanh (check by experiment).\n",
    "- Compilation Step (Note : Its a Regression problem , select loss , metrics according to it)\n",
    "- Train the Model with Epochs (100) and validate it\n",
    "- If the model gets overfit tune your model by changing the units , No. of layers , activation function , epochs , add dropout layer or add Regularizer according to the need .\n",
    "- Evaluation Step\n",
    "- Prediction\n"
   ]
  },
  {
   "cell_type": "markdown",
   "metadata": {
    "id": "8_lYngD2OZJN"
   },
   "source": [
    "# Load Data:\n"
   ]
  },
  {
   "cell_type": "code",
   "execution_count": 33,
   "metadata": {
    "id": "FgrSF5j_OZJO"
   },
   "outputs": [],
   "source": [
    "import tensorflow as tf\n",
    "import numpy as np\n",
    "import pandas as pd\n",
    "from tensorflow.keras import models, layers , optimizers"
   ]
  },
  {
   "cell_type": "code",
   "execution_count": 35,
   "metadata": {
    "id": "H43i_gBFPe02"
   },
   "outputs": [],
   "source": [
    "df= pd.read_csv(\"compresive_strength_concrete.csv\")"
   ]
  },
  {
   "cell_type": "code",
   "execution_count": 36,
   "metadata": {
    "colab": {
     "base_uri": "https://localhost:8080/",
     "height": 255
    },
    "id": "oH6RIxSbQy3d",
    "outputId": "5916f713-4d67-43d1-883f-685cbded6798"
   },
   "outputs": [
    {
     "data": {
      "text/html": [
       "<div>\n",
       "<style scoped>\n",
       "    .dataframe tbody tr th:only-of-type {\n",
       "        vertical-align: middle;\n",
       "    }\n",
       "\n",
       "    .dataframe tbody tr th {\n",
       "        vertical-align: top;\n",
       "    }\n",
       "\n",
       "    .dataframe thead th {\n",
       "        text-align: right;\n",
       "    }\n",
       "</style>\n",
       "<table border=\"1\" class=\"dataframe\">\n",
       "  <thead>\n",
       "    <tr style=\"text-align: right;\">\n",
       "      <th></th>\n",
       "      <th>Cement (component 1)(kg in a m^3 mixture)</th>\n",
       "      <th>Blast Furnace Slag (component 2)(kg in a m^3 mixture)</th>\n",
       "      <th>Fly Ash (component 3)(kg in a m^3 mixture)</th>\n",
       "      <th>Water  (component 4)(kg in a m^3 mixture)</th>\n",
       "      <th>Superplasticizer (component 5)(kg in a m^3 mixture)</th>\n",
       "      <th>Coarse Aggregate  (component 6)(kg in a m^3 mixture)</th>\n",
       "      <th>Fine Aggregate (component 7)(kg in a m^3 mixture)</th>\n",
       "      <th>Age (day)</th>\n",
       "      <th>Concrete compressive strength(MPa, megapascals)</th>\n",
       "    </tr>\n",
       "  </thead>\n",
       "  <tbody>\n",
       "    <tr>\n",
       "      <th>0</th>\n",
       "      <td>540.0</td>\n",
       "      <td>0.0</td>\n",
       "      <td>0.0</td>\n",
       "      <td>162.0</td>\n",
       "      <td>2.5</td>\n",
       "      <td>1040.0</td>\n",
       "      <td>676.0</td>\n",
       "      <td>28</td>\n",
       "      <td>79.99</td>\n",
       "    </tr>\n",
       "    <tr>\n",
       "      <th>1</th>\n",
       "      <td>540.0</td>\n",
       "      <td>0.0</td>\n",
       "      <td>0.0</td>\n",
       "      <td>162.0</td>\n",
       "      <td>2.5</td>\n",
       "      <td>1055.0</td>\n",
       "      <td>676.0</td>\n",
       "      <td>28</td>\n",
       "      <td>61.89</td>\n",
       "    </tr>\n",
       "    <tr>\n",
       "      <th>2</th>\n",
       "      <td>332.5</td>\n",
       "      <td>142.5</td>\n",
       "      <td>0.0</td>\n",
       "      <td>228.0</td>\n",
       "      <td>0.0</td>\n",
       "      <td>932.0</td>\n",
       "      <td>594.0</td>\n",
       "      <td>270</td>\n",
       "      <td>40.27</td>\n",
       "    </tr>\n",
       "    <tr>\n",
       "      <th>3</th>\n",
       "      <td>332.5</td>\n",
       "      <td>142.5</td>\n",
       "      <td>0.0</td>\n",
       "      <td>228.0</td>\n",
       "      <td>0.0</td>\n",
       "      <td>932.0</td>\n",
       "      <td>594.0</td>\n",
       "      <td>365</td>\n",
       "      <td>41.05</td>\n",
       "    </tr>\n",
       "    <tr>\n",
       "      <th>4</th>\n",
       "      <td>198.6</td>\n",
       "      <td>132.4</td>\n",
       "      <td>0.0</td>\n",
       "      <td>192.0</td>\n",
       "      <td>0.0</td>\n",
       "      <td>978.4</td>\n",
       "      <td>825.5</td>\n",
       "      <td>360</td>\n",
       "      <td>44.30</td>\n",
       "    </tr>\n",
       "  </tbody>\n",
       "</table>\n",
       "</div>"
      ],
      "text/plain": [
       "   Cement (component 1)(kg in a m^3 mixture)  ...  Concrete compressive strength(MPa, megapascals) \n",
       "0                                      540.0  ...                                             79.99\n",
       "1                                      540.0  ...                                             61.89\n",
       "2                                      332.5  ...                                             40.27\n",
       "3                                      332.5  ...                                             41.05\n",
       "4                                      198.6  ...                                             44.30\n",
       "\n",
       "[5 rows x 9 columns]"
      ]
     },
     "execution_count": 36,
     "metadata": {
      "tags": []
     },
     "output_type": "execute_result"
    }
   ],
   "source": [
    "df.head()"
   ]
  },
  {
   "cell_type": "code",
   "execution_count": 37,
   "metadata": {
    "colab": {
     "base_uri": "https://localhost:8080/"
    },
    "id": "q8S-QLsBR4Bd",
    "outputId": "c80c08db-ff8b-45df-c868-3cda74014d5c"
   },
   "outputs": [
    {
     "data": {
      "text/plain": [
       "Cement (component 1)(kg in a m^3 mixture)                0\n",
       "Blast Furnace Slag (component 2)(kg in a m^3 mixture)    0\n",
       "Fly Ash (component 3)(kg in a m^3 mixture)               0\n",
       "Water  (component 4)(kg in a m^3 mixture)                0\n",
       "Superplasticizer (component 5)(kg in a m^3 mixture)      0\n",
       "Coarse Aggregate  (component 6)(kg in a m^3 mixture)     0\n",
       "Fine Aggregate (component 7)(kg in a m^3 mixture)        0\n",
       "Age (day)                                                0\n",
       "Concrete compressive strength(MPa, megapascals)          0\n",
       "dtype: int64"
      ]
     },
     "execution_count": 37,
     "metadata": {
      "tags": []
     },
     "output_type": "execute_result"
    }
   ],
   "source": [
    "df.isnull().sum()"
   ]
  },
  {
   "cell_type": "code",
   "execution_count": 38,
   "metadata": {
    "colab": {
     "base_uri": "https://localhost:8080/",
     "height": 348
    },
    "id": "NAoNRjCbSKxZ",
    "outputId": "c8e8bb6d-2110-45f8-ed7c-0a1ef0789c41"
   },
   "outputs": [
    {
     "data": {
      "text/html": [
       "<div>\n",
       "<style scoped>\n",
       "    .dataframe tbody tr th:only-of-type {\n",
       "        vertical-align: middle;\n",
       "    }\n",
       "\n",
       "    .dataframe tbody tr th {\n",
       "        vertical-align: top;\n",
       "    }\n",
       "\n",
       "    .dataframe thead th {\n",
       "        text-align: right;\n",
       "    }\n",
       "</style>\n",
       "<table border=\"1\" class=\"dataframe\">\n",
       "  <thead>\n",
       "    <tr style=\"text-align: right;\">\n",
       "      <th></th>\n",
       "      <th>Cement (component 1)(kg in a m^3 mixture)</th>\n",
       "      <th>Blast Furnace Slag (component 2)(kg in a m^3 mixture)</th>\n",
       "      <th>Fly Ash (component 3)(kg in a m^3 mixture)</th>\n",
       "      <th>Water  (component 4)(kg in a m^3 mixture)</th>\n",
       "      <th>Superplasticizer (component 5)(kg in a m^3 mixture)</th>\n",
       "      <th>Coarse Aggregate  (component 6)(kg in a m^3 mixture)</th>\n",
       "      <th>Fine Aggregate (component 7)(kg in a m^3 mixture)</th>\n",
       "      <th>Age (day)</th>\n",
       "      <th>Concrete compressive strength(MPa, megapascals)</th>\n",
       "    </tr>\n",
       "  </thead>\n",
       "  <tbody>\n",
       "    <tr>\n",
       "      <th>count</th>\n",
       "      <td>1030.000000</td>\n",
       "      <td>1030.000000</td>\n",
       "      <td>1030.000000</td>\n",
       "      <td>1030.000000</td>\n",
       "      <td>1030.000000</td>\n",
       "      <td>1030.000000</td>\n",
       "      <td>1030.000000</td>\n",
       "      <td>1030.000000</td>\n",
       "      <td>1030.000000</td>\n",
       "    </tr>\n",
       "    <tr>\n",
       "      <th>mean</th>\n",
       "      <td>281.167864</td>\n",
       "      <td>73.895825</td>\n",
       "      <td>54.188350</td>\n",
       "      <td>181.567282</td>\n",
       "      <td>6.204660</td>\n",
       "      <td>972.918932</td>\n",
       "      <td>773.580485</td>\n",
       "      <td>45.662136</td>\n",
       "      <td>35.817961</td>\n",
       "    </tr>\n",
       "    <tr>\n",
       "      <th>std</th>\n",
       "      <td>104.506364</td>\n",
       "      <td>86.279342</td>\n",
       "      <td>63.997004</td>\n",
       "      <td>21.354219</td>\n",
       "      <td>5.973841</td>\n",
       "      <td>77.753954</td>\n",
       "      <td>80.175980</td>\n",
       "      <td>63.169912</td>\n",
       "      <td>16.705742</td>\n",
       "    </tr>\n",
       "    <tr>\n",
       "      <th>min</th>\n",
       "      <td>102.000000</td>\n",
       "      <td>0.000000</td>\n",
       "      <td>0.000000</td>\n",
       "      <td>121.800000</td>\n",
       "      <td>0.000000</td>\n",
       "      <td>801.000000</td>\n",
       "      <td>594.000000</td>\n",
       "      <td>1.000000</td>\n",
       "      <td>2.330000</td>\n",
       "    </tr>\n",
       "    <tr>\n",
       "      <th>25%</th>\n",
       "      <td>192.375000</td>\n",
       "      <td>0.000000</td>\n",
       "      <td>0.000000</td>\n",
       "      <td>164.900000</td>\n",
       "      <td>0.000000</td>\n",
       "      <td>932.000000</td>\n",
       "      <td>730.950000</td>\n",
       "      <td>7.000000</td>\n",
       "      <td>23.710000</td>\n",
       "    </tr>\n",
       "    <tr>\n",
       "      <th>50%</th>\n",
       "      <td>272.900000</td>\n",
       "      <td>22.000000</td>\n",
       "      <td>0.000000</td>\n",
       "      <td>185.000000</td>\n",
       "      <td>6.400000</td>\n",
       "      <td>968.000000</td>\n",
       "      <td>779.500000</td>\n",
       "      <td>28.000000</td>\n",
       "      <td>34.445000</td>\n",
       "    </tr>\n",
       "    <tr>\n",
       "      <th>75%</th>\n",
       "      <td>350.000000</td>\n",
       "      <td>142.950000</td>\n",
       "      <td>118.300000</td>\n",
       "      <td>192.000000</td>\n",
       "      <td>10.200000</td>\n",
       "      <td>1029.400000</td>\n",
       "      <td>824.000000</td>\n",
       "      <td>56.000000</td>\n",
       "      <td>46.135000</td>\n",
       "    </tr>\n",
       "    <tr>\n",
       "      <th>max</th>\n",
       "      <td>540.000000</td>\n",
       "      <td>359.400000</td>\n",
       "      <td>200.100000</td>\n",
       "      <td>247.000000</td>\n",
       "      <td>32.200000</td>\n",
       "      <td>1145.000000</td>\n",
       "      <td>992.600000</td>\n",
       "      <td>365.000000</td>\n",
       "      <td>82.600000</td>\n",
       "    </tr>\n",
       "  </tbody>\n",
       "</table>\n",
       "</div>"
      ],
      "text/plain": [
       "       Cement (component 1)(kg in a m^3 mixture)  ...  Concrete compressive strength(MPa, megapascals) \n",
       "count                                1030.000000  ...                                       1030.000000\n",
       "mean                                  281.167864  ...                                         35.817961\n",
       "std                                   104.506364  ...                                         16.705742\n",
       "min                                   102.000000  ...                                          2.330000\n",
       "25%                                   192.375000  ...                                         23.710000\n",
       "50%                                   272.900000  ...                                         34.445000\n",
       "75%                                   350.000000  ...                                         46.135000\n",
       "max                                   540.000000  ...                                         82.600000\n",
       "\n",
       "[8 rows x 9 columns]"
      ]
     },
     "execution_count": 38,
     "metadata": {
      "tags": []
     },
     "output_type": "execute_result"
    }
   ],
   "source": [
    "df.describe()"
   ]
  },
  {
   "cell_type": "code",
   "execution_count": 39,
   "metadata": {
    "colab": {
     "base_uri": "https://localhost:8080/"
    },
    "id": "NHZ4H5GPSUz8",
    "outputId": "dfc26ac7-e9cc-4023-b536-d6e883d19376"
   },
   "outputs": [
    {
     "name": "stdout",
     "output_type": "stream",
     "text": [
      "<class 'pandas.core.frame.DataFrame'>\n",
      "RangeIndex: 1030 entries, 0 to 1029\n",
      "Data columns (total 9 columns):\n",
      " #   Column                                                 Non-Null Count  Dtype  \n",
      "---  ------                                                 --------------  -----  \n",
      " 0   Cement (component 1)(kg in a m^3 mixture)              1030 non-null   float64\n",
      " 1   Blast Furnace Slag (component 2)(kg in a m^3 mixture)  1030 non-null   float64\n",
      " 2   Fly Ash (component 3)(kg in a m^3 mixture)             1030 non-null   float64\n",
      " 3   Water  (component 4)(kg in a m^3 mixture)              1030 non-null   float64\n",
      " 4   Superplasticizer (component 5)(kg in a m^3 mixture)    1030 non-null   float64\n",
      " 5   Coarse Aggregate  (component 6)(kg in a m^3 mixture)   1030 non-null   float64\n",
      " 6   Fine Aggregate (component 7)(kg in a m^3 mixture)      1030 non-null   float64\n",
      " 7   Age (day)                                              1030 non-null   int64  \n",
      " 8   Concrete compressive strength(MPa, megapascals)        1030 non-null   float64\n",
      "dtypes: float64(8), int64(1)\n",
      "memory usage: 72.5 KB\n"
     ]
    }
   ],
   "source": [
    "df.info()"
   ]
  },
  {
   "cell_type": "code",
   "execution_count": 40,
   "metadata": {
    "colab": {
     "base_uri": "https://localhost:8080/"
    },
    "id": "1BOyIHonVu9W",
    "outputId": "e0d4a998-37d4-4c66-e4ad-103d00d24de1"
   },
   "outputs": [
    {
     "data": {
      "text/plain": [
       "Index(['Cement (component 1)(kg in a m^3 mixture)',\n",
       "       'Blast Furnace Slag (component 2)(kg in a m^3 mixture)',\n",
       "       'Fly Ash (component 3)(kg in a m^3 mixture)',\n",
       "       'Water  (component 4)(kg in a m^3 mixture)',\n",
       "       'Superplasticizer (component 5)(kg in a m^3 mixture)',\n",
       "       'Coarse Aggregate  (component 6)(kg in a m^3 mixture)',\n",
       "       'Fine Aggregate (component 7)(kg in a m^3 mixture)', 'Age (day)',\n",
       "       'Concrete compressive strength(MPa, megapascals) '],\n",
       "      dtype='object')"
      ]
     },
     "execution_count": 40,
     "metadata": {
      "tags": []
     },
     "output_type": "execute_result"
    }
   ],
   "source": [
    "df.keys()# to gets columns name"
   ]
  },
  {
   "cell_type": "code",
   "execution_count": 41,
   "metadata": {
    "id": "0pI6EOmVSYA9"
   },
   "outputs": [],
   "source": [
    "# split dataframe into input and output\n",
    "data=df.iloc[:,:8]\n",
    "\n",
    "targets=df.iloc[:,-1]"
   ]
  },
  {
   "cell_type": "code",
   "execution_count": 42,
   "metadata": {
    "colab": {
     "base_uri": "https://localhost:8080/",
     "height": 1000
    },
    "id": "VgcX-c4uV9H1",
    "outputId": "e8883285-6a99-4e2f-dd0d-4df0c8b7f7c0"
   },
   "outputs": [
    {
     "data": {
      "image/png": "[encoded data removed]",
      "text/plain": [
       "<Figure size 2160x2160 with 9 Axes>"
      ]
     },
     "metadata": {
      "tags": []
     },
     "output_type": "display_data"
    }
   ],
   "source": [
    "%matplotlib inline\n",
    "import matplotlib.pyplot as plt\n",
    "plt.style.use('ggplot')\n",
    "pd.DataFrame.hist(data, figsize = [30,30])\n",
    "plt.show()"
   ]
  },
  {
   "cell_type": "code",
   "execution_count": 43,
   "metadata": {
    "colab": {
     "base_uri": "https://localhost:8080/",
     "height": 445
    },
    "id": "zNhK-R69vqFN",
    "outputId": "bf0c0ac7-e94e-49d3-ffbe-2f489abd3355"
   },
   "outputs": [
    {
     "data": {
      "image/png": "[encoded data removed]",
      "text/plain": [
       "<Figure size 504x504 with 1 Axes>"
      ]
     },
     "metadata": {
      "tags": []
     },
     "output_type": "display_data"
    }
   ],
   "source": [
    "plt.style.use('ggplot')\n",
    "targets.hist( figsize = [7,7])\n",
    "plt.title(\"Actual Targets\")\n",
    "plt.show()"
   ]
  },
  {
   "cell_type": "code",
   "execution_count": 44,
   "metadata": {
    "id": "mel2k2Nwf0LI"
   },
   "outputs": [],
   "source": [
    "# standardized or normalized the data (input variables)\n",
    "mean = data.mean(axis=0)\n",
    "data-= mean\n",
    "std = data.std(axis=0)\n",
    "data/= std"
   ]
  },
  {
   "cell_type": "code",
   "execution_count": 45,
   "metadata": {
    "id": "e6Q4b8UpXI8a"
   },
   "outputs": [],
   "source": [
    "# data spliting using machine learning spliting method\n",
    "from sklearn.model_selection import train_test_split\n",
    "X_train,X_test,y_train,y_test=train_test_split(data,targets,random_state=0)"
   ]
  },
  {
   "cell_type": "code",
   "execution_count": 46,
   "metadata": {
    "colab": {
     "base_uri": "https://localhost:8080/"
    },
    "id": "cxld28AodAxY",
    "outputId": "d04b34a7-998b-46b6-edcb-b96dc8a3dd45"
   },
   "outputs": [
    {
     "name": "stdout",
     "output_type": "stream",
     "text": [
      "Shape of training data :(772, 8),\n",
      "Shape of training targets:(772,)\n"
     ]
    }
   ],
   "source": [
    "print(f\"Shape of training data :{X_train.shape},\\nShape of training targets:{y_train.shape}\")"
   ]
  },
  {
   "cell_type": "code",
   "execution_count": 47,
   "metadata": {
    "colab": {
     "base_uri": "https://localhost:8080/"
    },
    "id": "XsIXmksBdKGl",
    "outputId": "49dbfbfb-6db8-4260-ca9c-7dc7bc18818a"
   },
   "outputs": [
    {
     "name": "stdout",
     "output_type": "stream",
     "text": [
      "Shape of testing data :(258, 8),\n",
      "Shape of testing targets:(258,)\n"
     ]
    }
   ],
   "source": [
    "print(f\"Shape of testing data :{X_test.shape},\\nShape of testing targets:{y_test.shape}\")"
   ]
  },
  {
   "cell_type": "code",
   "execution_count": 48,
   "metadata": {
    "id": "pJ4OdxP9g5Wa"
   },
   "outputs": [],
   "source": [
    "X_train= np.asarray(X_train).astype('float32')\n",
    "X_test= np.asarray(X_test).astype('float32')\n"
   ]
  },
  {
   "cell_type": "code",
   "execution_count": 49,
   "metadata": {
    "id": "uTKLaC-_jgZC"
   },
   "outputs": [],
   "source": [
    "val_X = X_train[:230]\n",
    "partial_X_train=X_train[230:]\n",
    "val_y=y_train[:230]\n",
    "partial_y_train=y_train[230:]\n"
   ]
  },
  {
   "cell_type": "code",
   "execution_count": 50,
   "metadata": {
    "id": "yI9PhkMyhH9Q"
   },
   "outputs": [],
   "source": [
    "from keras import models, layers , optimizers"
   ]
  },
  {
   "cell_type": "code",
   "execution_count": 51,
   "metadata": {
    "id": "FBHIpQiNhLsk"
   },
   "outputs": [],
   "source": [
    "network=models.Sequential()\n",
    "network.add(tf.keras.layers.Dense(10,activation=\"relu\",input_shape=(X_train.shape[1],)))\n",
    "network.add(tf.keras.layers.Dense(8,activation=\"relu\"))\n",
    "network.add(tf.keras.layers.Dense(6,activation=\"relu\"))\n",
    "network.add(tf.keras.layers.Dense(1))\n"
   ]
  },
  {
   "cell_type": "code",
   "execution_count": 52,
   "metadata": {
    "colab": {
     "base_uri": "https://localhost:8080/"
    },
    "id": "vxNlTIfWihRB",
    "outputId": "8915cc24-aa98-4525-9dba-42d3659929cd"
   },
   "outputs": [
    {
     "name": "stdout",
     "output_type": "stream",
     "text": [
      "Model: \"sequential_2\"\n",
      "_________________________________________________________________\n",
      "Layer (type)                 Output Shape              Param #   \n",
      "=================================================================\n",
      "dense_7 (Dense)              (None, 10)                90        \n",
      "_________________________________________________________________\n",
      "dense_8 (Dense)              (None, 8)                 88        \n",
      "_________________________________________________________________\n",
      "dense_9 (Dense)              (None, 6)                 54        \n",
      "_________________________________________________________________\n",
      "dense_10 (Dense)             (None, 1)                 7         \n",
      "=================================================================\n",
      "Total params: 239\n",
      "Trainable params: 239\n",
      "Non-trainable params: 0\n",
      "_________________________________________________________________\n"
     ]
    }
   ],
   "source": [
    "network.summary()"
   ]
  },
  {
   "cell_type": "code",
   "execution_count": 53,
   "metadata": {
    "id": "DojP0-ZZipQE"
   },
   "outputs": [],
   "source": [
    "network.compile(optimizer=optimizers.RMSprop(lr=0.001), loss=\"mse\",metrics=['mae'])"
   ]
  },
  {
   "cell_type": "code",
   "execution_count": 54,
   "metadata": {
    "colab": {
     "base_uri": "https://localhost:8080/"
    },
    "id": "KE-wc1irh7dL",
    "outputId": "4c4a035e-0eef-4502-b2e0-d4faf44b70cb"
   },
   "outputs": [
    {
     "name": "stdout",
     "output_type": "stream",
     "text": [
      "Epoch 1/100\n",
      "542/542 [==============================] - 1s 2ms/step - loss: 1337.7100 - mae: 32.8071 - val_loss: 551.4061 - val_mae: 19.4126\n",
      "Epoch 2/100\n",
      "542/542 [==============================] - 1s 1ms/step - loss: 332.4442 - mae: 14.6889 - val_loss: 215.0333 - val_mae: 11.5066\n",
      "Epoch 3/100\n",
      "542/542 [==============================] - 1s 1ms/step - loss: 183.1750 - mae: 10.7917 - val_loss: 182.1339 - val_mae: 10.6160\n",
      "Epoch 4/100\n",
      "542/542 [==============================] - 1s 1ms/step - loss: 182.2379 - mae: 10.8196 - val_loss: 176.5588 - val_mae: 10.3372\n",
      "Epoch 5/100\n",
      "542/542 [==============================] - 1s 1ms/step - loss: 164.7417 - mae: 10.2962 - val_loss: 167.2432 - val_mae: 10.6317\n",
      "Epoch 6/100\n",
      "542/542 [==============================] - 1s 1ms/step - loss: 149.5698 - mae: 9.8264 - val_loss: 154.5211 - val_mae: 10.0844\n",
      "Epoch 7/100\n",
      "542/542 [==============================] - 1s 1ms/step - loss: 140.6775 - mae: 9.3967 - val_loss: 149.1830 - val_mae: 9.8813\n",
      "Epoch 8/100\n",
      "542/542 [==============================] - 1s 1ms/step - loss: 152.9540 - mae: 9.8631 - val_loss: 143.6718 - val_mae: 9.6328\n",
      "Epoch 9/100\n",
      "542/542 [==============================] - 1s 1ms/step - loss: 139.7039 - mae: 9.4359 - val_loss: 138.1406 - val_mae: 9.5144\n",
      "Epoch 10/100\n",
      "542/542 [==============================] - 1s 1ms/step - loss: 138.0147 - mae: 9.3553 - val_loss: 134.3418 - val_mae: 9.3802\n",
      "Epoch 11/100\n",
      "542/542 [==============================] - 1s 1ms/step - loss: 143.2741 - mae: 9.6425 - val_loss: 132.9221 - val_mae: 9.2630\n",
      "Epoch 12/100\n",
      "542/542 [==============================] - 1s 1ms/step - loss: 132.0046 - mae: 9.0454 - val_loss: 135.2620 - val_mae: 9.5996\n",
      "Epoch 13/100\n",
      "542/542 [==============================] - 1s 1ms/step - loss: 145.8720 - mae: 9.7865 - val_loss: 130.7842 - val_mae: 9.3980\n",
      "Epoch 14/100\n",
      "542/542 [==============================] - 1s 1ms/step - loss: 134.1620 - mae: 9.1667 - val_loss: 125.6953 - val_mae: 9.1373\n",
      "Epoch 15/100\n",
      "542/542 [==============================] - 1s 1ms/step - loss: 134.0127 - mae: 9.1503 - val_loss: 124.1604 - val_mae: 9.0825\n",
      "Epoch 16/100\n",
      "542/542 [==============================] - 1s 1ms/step - loss: 122.5304 - mae: 8.8720 - val_loss: 118.0098 - val_mae: 8.8019\n",
      "Epoch 17/100\n",
      "542/542 [==============================] - 1s 1ms/step - loss: 125.6769 - mae: 8.7681 - val_loss: 123.8518 - val_mae: 9.1813\n",
      "Epoch 18/100\n",
      "542/542 [==============================] - 1s 1ms/step - loss: 120.7854 - mae: 8.5973 - val_loss: 121.5900 - val_mae: 8.7330\n",
      "Epoch 19/100\n",
      "542/542 [==============================] - 1s 1ms/step - loss: 111.1099 - mae: 8.3047 - val_loss: 109.6532 - val_mae: 8.4935\n",
      "Epoch 20/100\n",
      "542/542 [==============================] - 1s 1ms/step - loss: 117.5709 - mae: 8.5910 - val_loss: 106.0770 - val_mae: 8.3338\n",
      "Epoch 21/100\n",
      "542/542 [==============================] - 1s 1ms/step - loss: 122.8292 - mae: 8.6615 - val_loss: 105.5225 - val_mae: 8.3736\n",
      "Epoch 22/100\n",
      "542/542 [==============================] - 1s 1ms/step - loss: 111.8328 - mae: 8.3101 - val_loss: 99.9512 - val_mae: 8.1129\n",
      "Epoch 23/100\n",
      "542/542 [==============================] - 1s 1ms/step - loss: 97.6314 - mae: 7.7325 - val_loss: 99.4763 - val_mae: 8.1590\n",
      "Epoch 24/100\n",
      "542/542 [==============================] - 1s 1ms/step - loss: 99.5588 - mae: 7.7685 - val_loss: 91.9743 - val_mae: 7.7796\n",
      "Epoch 25/100\n",
      "542/542 [==============================] - 1s 1ms/step - loss: 103.4548 - mae: 8.0071 - val_loss: 91.3784 - val_mae: 7.7618\n",
      "Epoch 26/100\n",
      "542/542 [==============================] - 1s 1ms/step - loss: 84.5012 - mae: 7.0158 - val_loss: 93.1089 - val_mae: 7.9020\n",
      "Epoch 27/100\n",
      "542/542 [==============================] - 1s 1ms/step - loss: 103.1489 - mae: 7.6979 - val_loss: 83.9223 - val_mae: 7.4079\n",
      "Epoch 28/100\n",
      "542/542 [==============================] - 1s 1ms/step - loss: 96.3528 - mae: 7.6072 - val_loss: 86.1468 - val_mae: 7.2237\n",
      "Epoch 29/100\n",
      "542/542 [==============================] - 1s 1ms/step - loss: 81.6290 - mae: 6.8102 - val_loss: 89.5816 - val_mae: 7.3931\n",
      "Epoch 30/100\n",
      "542/542 [==============================] - 1s 1ms/step - loss: 94.2098 - mae: 7.2969 - val_loss: 79.0922 - val_mae: 7.0739\n",
      "Epoch 31/100\n",
      "542/542 [==============================] - 1s 1ms/step - loss: 87.8353 - mae: 7.2625 - val_loss: 73.9508 - val_mae: 6.8325\n",
      "Epoch 32/100\n",
      "542/542 [==============================] - 1s 1ms/step - loss: 79.5653 - mae: 6.8836 - val_loss: 73.6576 - val_mae: 6.7765\n",
      "Epoch 33/100\n",
      "542/542 [==============================] - 1s 1ms/step - loss: 85.6157 - mae: 7.0295 - val_loss: 70.4885 - val_mae: 6.7006\n",
      "Epoch 34/100\n",
      "542/542 [==============================] - 1s 1ms/step - loss: 70.1638 - mae: 6.5926 - val_loss: 69.7944 - val_mae: 6.7250\n",
      "Epoch 35/100\n",
      "542/542 [==============================] - 1s 1ms/step - loss: 73.3181 - mae: 6.5035 - val_loss: 70.8482 - val_mae: 6.6694\n",
      "Epoch 36/100\n",
      "542/542 [==============================] - 1s 1ms/step - loss: 86.0689 - mae: 6.9265 - val_loss: 66.2223 - val_mae: 6.5414\n",
      "Epoch 37/100\n",
      "542/542 [==============================] - 1s 1ms/step - loss: 72.0851 - mae: 6.3870 - val_loss: 66.5617 - val_mae: 6.5571\n",
      "Epoch 38/100\n",
      "542/542 [==============================] - 1s 1ms/step - loss: 72.1746 - mae: 6.5575 - val_loss: 63.4891 - val_mae: 6.4100\n",
      "Epoch 39/100\n",
      "542/542 [==============================] - 1s 1ms/step - loss: 72.9862 - mae: 6.4543 - val_loss: 61.8196 - val_mae: 6.3489\n",
      "Epoch 40/100\n",
      "542/542 [==============================] - 1s 1ms/step - loss: 70.9502 - mae: 6.4721 - val_loss: 64.7973 - val_mae: 6.4349\n",
      "Epoch 41/100\n",
      "542/542 [==============================] - 1s 1ms/step - loss: 66.1002 - mae: 6.0876 - val_loss: 59.9190 - val_mae: 6.2179\n",
      "Epoch 42/100\n",
      "542/542 [==============================] - 1s 1ms/step - loss: 70.5040 - mae: 6.2468 - val_loss: 62.1519 - val_mae: 6.3340\n",
      "Epoch 43/100\n",
      "542/542 [==============================] - 1s 1ms/step - loss: 57.6718 - mae: 5.6379 - val_loss: 56.8062 - val_mae: 6.0195\n",
      "Epoch 44/100\n",
      "542/542 [==============================] - 1s 1ms/step - loss: 65.2424 - mae: 6.1658 - val_loss: 55.2040 - val_mae: 5.9744\n",
      "Epoch 45/100\n",
      "542/542 [==============================] - 1s 1ms/step - loss: 55.1773 - mae: 5.5034 - val_loss: 57.4112 - val_mae: 6.0822\n",
      "Epoch 46/100\n",
      "542/542 [==============================] - 1s 1ms/step - loss: 49.8795 - mae: 5.3639 - val_loss: 51.9462 - val_mae: 5.7955\n",
      "Epoch 47/100\n",
      "542/542 [==============================] - 1s 1ms/step - loss: 71.5929 - mae: 6.0603 - val_loss: 51.6831 - val_mae: 5.7645\n",
      "Epoch 48/100\n",
      "542/542 [==============================] - 1s 1ms/step - loss: 55.3505 - mae: 5.3325 - val_loss: 50.1253 - val_mae: 5.6549\n",
      "Epoch 49/100\n",
      "542/542 [==============================] - 1s 1ms/step - loss: 55.4922 - mae: 5.5622 - val_loss: 51.4448 - val_mae: 5.7241\n",
      "Epoch 50/100\n",
      "542/542 [==============================] - 1s 1ms/step - loss: 53.1603 - mae: 5.3540 - val_loss: 48.6888 - val_mae: 5.5860\n",
      "Epoch 51/100\n",
      "542/542 [==============================] - 1s 1ms/step - loss: 48.1186 - mae: 4.9669 - val_loss: 45.4073 - val_mae: 5.3035\n",
      "Epoch 52/100\n",
      "542/542 [==============================] - 1s 1ms/step - loss: 52.6768 - mae: 5.4850 - val_loss: 47.7352 - val_mae: 5.5588\n",
      "Epoch 53/100\n",
      "542/542 [==============================] - 1s 1ms/step - loss: 49.9565 - mae: 5.3091 - val_loss: 48.3311 - val_mae: 5.4948\n",
      "Epoch 54/100\n",
      "542/542 [==============================] - 1s 1ms/step - loss: 43.5590 - mae: 4.9730 - val_loss: 43.4068 - val_mae: 5.2408\n",
      "Epoch 55/100\n",
      "542/542 [==============================] - 1s 1ms/step - loss: 50.2057 - mae: 5.1971 - val_loss: 43.0333 - val_mae: 5.1782\n",
      "Epoch 56/100\n",
      "542/542 [==============================] - 1s 1ms/step - loss: 43.5030 - mae: 4.9650 - val_loss: 45.1830 - val_mae: 5.3425\n",
      "Epoch 57/100\n",
      "542/542 [==============================] - 1s 1ms/step - loss: 45.3949 - mae: 4.8897 - val_loss: 41.4537 - val_mae: 5.1233\n",
      "Epoch 58/100\n",
      "542/542 [==============================] - 1s 1ms/step - loss: 40.3885 - mae: 4.6805 - val_loss: 41.6201 - val_mae: 5.1815\n",
      "Epoch 59/100\n",
      "542/542 [==============================] - 1s 1ms/step - loss: 46.6864 - mae: 5.1405 - val_loss: 40.4183 - val_mae: 5.0696\n",
      "Epoch 60/100\n",
      "542/542 [==============================] - 1s 1ms/step - loss: 41.5823 - mae: 4.7657 - val_loss: 49.4133 - val_mae: 5.6805\n",
      "Epoch 61/100\n",
      "542/542 [==============================] - 1s 1ms/step - loss: 55.8261 - mae: 5.2754 - val_loss: 42.0599 - val_mae: 5.1275\n",
      "Epoch 62/100\n",
      "542/542 [==============================] - 1s 1ms/step - loss: 40.5519 - mae: 4.7116 - val_loss: 39.6906 - val_mae: 5.0033\n",
      "Epoch 63/100\n",
      "542/542 [==============================] - 1s 1ms/step - loss: 41.2060 - mae: 4.7709 - val_loss: 41.9802 - val_mae: 5.0516\n",
      "Epoch 64/100\n",
      "542/542 [==============================] - 1s 1ms/step - loss: 46.1297 - mae: 5.0095 - val_loss: 40.6203 - val_mae: 5.0428\n",
      "Epoch 65/100\n",
      "542/542 [==============================] - 1s 1ms/step - loss: 40.3994 - mae: 4.6977 - val_loss: 39.3971 - val_mae: 4.9795\n",
      "Epoch 66/100\n",
      "542/542 [==============================] - 1s 1ms/step - loss: 50.2798 - mae: 5.2376 - val_loss: 42.0608 - val_mae: 5.1027\n",
      "Epoch 67/100\n",
      "542/542 [==============================] - 1s 1ms/step - loss: 41.5131 - mae: 4.6693 - val_loss: 40.2562 - val_mae: 5.0279\n",
      "Epoch 68/100\n",
      "542/542 [==============================] - 1s 1ms/step - loss: 41.4010 - mae: 4.8029 - val_loss: 40.5442 - val_mae: 5.0520\n",
      "Epoch 69/100\n",
      "542/542 [==============================] - 1s 1ms/step - loss: 45.8876 - mae: 4.8744 - val_loss: 42.1805 - val_mae: 5.0218\n",
      "Epoch 70/100\n",
      "542/542 [==============================] - 1s 1ms/step - loss: 44.3759 - mae: 4.8183 - val_loss: 43.5173 - val_mae: 5.2361\n",
      "Epoch 71/100\n",
      "542/542 [==============================] - 1s 1ms/step - loss: 46.0333 - mae: 5.0944 - val_loss: 39.3232 - val_mae: 4.9620\n",
      "Epoch 72/100\n",
      "542/542 [==============================] - 1s 1ms/step - loss: 44.8081 - mae: 5.1107 - val_loss: 39.8271 - val_mae: 4.9689\n",
      "Epoch 73/100\n",
      "542/542 [==============================] - 1s 1ms/step - loss: 38.9149 - mae: 4.5801 - val_loss: 49.0166 - val_mae: 5.5191\n",
      "Epoch 74/100\n",
      "542/542 [==============================] - 1s 1ms/step - loss: 43.4282 - mae: 4.9053 - val_loss: 40.0515 - val_mae: 4.9766\n",
      "Epoch 75/100\n",
      "542/542 [==============================] - 1s 1ms/step - loss: 40.0726 - mae: 4.5562 - val_loss: 41.1830 - val_mae: 5.0760\n",
      "Epoch 76/100\n",
      "542/542 [==============================] - 1s 1ms/step - loss: 45.4378 - mae: 4.8422 - val_loss: 39.5922 - val_mae: 4.9246\n",
      "Epoch 77/100\n",
      "542/542 [==============================] - 1s 1ms/step - loss: 38.3155 - mae: 4.5743 - val_loss: 38.9754 - val_mae: 4.8986\n",
      "Epoch 78/100\n",
      "542/542 [==============================] - 1s 1ms/step - loss: 40.7997 - mae: 4.7275 - val_loss: 39.3687 - val_mae: 4.8920\n",
      "Epoch 79/100\n",
      "542/542 [==============================] - 1s 1ms/step - loss: 47.6957 - mae: 4.9718 - val_loss: 41.8718 - val_mae: 5.1098\n",
      "Epoch 80/100\n",
      "542/542 [==============================] - 1s 1ms/step - loss: 39.7945 - mae: 4.7378 - val_loss: 41.9113 - val_mae: 5.0332\n",
      "Epoch 81/100\n",
      "542/542 [==============================] - 1s 1ms/step - loss: 36.3060 - mae: 4.5534 - val_loss: 37.6097 - val_mae: 4.8056\n",
      "Epoch 82/100\n",
      "542/542 [==============================] - 1s 1ms/step - loss: 44.6535 - mae: 4.8903 - val_loss: 42.5670 - val_mae: 5.0431\n",
      "Epoch 83/100\n",
      "542/542 [==============================] - 1s 1ms/step - loss: 37.3009 - mae: 4.5639 - val_loss: 39.8705 - val_mae: 4.9357\n",
      "Epoch 84/100\n",
      "542/542 [==============================] - 1s 1ms/step - loss: 36.9187 - mae: 4.5149 - val_loss: 38.4550 - val_mae: 4.8628\n",
      "Epoch 85/100\n",
      "542/542 [==============================] - 1s 1ms/step - loss: 38.1759 - mae: 4.5827 - val_loss: 44.3005 - val_mae: 5.1568\n",
      "Epoch 86/100\n",
      "542/542 [==============================] - 1s 1ms/step - loss: 36.9318 - mae: 4.4549 - val_loss: 38.7601 - val_mae: 4.9132\n",
      "Epoch 87/100\n",
      "542/542 [==============================] - 1s 1ms/step - loss: 42.4280 - mae: 4.7189 - val_loss: 38.3348 - val_mae: 4.8397\n",
      "Epoch 88/100\n",
      "542/542 [==============================] - 1s 1ms/step - loss: 36.3660 - mae: 4.5350 - val_loss: 38.0767 - val_mae: 4.8073\n",
      "Epoch 89/100\n",
      "542/542 [==============================] - 1s 2ms/step - loss: 38.9216 - mae: 4.6180 - val_loss: 39.4141 - val_mae: 4.8409\n",
      "Epoch 90/100\n",
      "542/542 [==============================] - 1s 1ms/step - loss: 38.2456 - mae: 4.5948 - val_loss: 38.1335 - val_mae: 4.8319\n",
      "Epoch 91/100\n",
      "542/542 [==============================] - 1s 1ms/step - loss: 37.3031 - mae: 4.5045 - val_loss: 41.8675 - val_mae: 5.0053\n",
      "Epoch 92/100\n",
      "542/542 [==============================] - 1s 1ms/step - loss: 49.0683 - mae: 4.9389 - val_loss: 40.1384 - val_mae: 4.8767\n",
      "Epoch 93/100\n",
      "542/542 [==============================] - 1s 1ms/step - loss: 43.3993 - mae: 4.6949 - val_loss: 38.5904 - val_mae: 4.8382\n",
      "Epoch 94/100\n",
      "542/542 [==============================] - 1s 1ms/step - loss: 38.2957 - mae: 4.6621 - val_loss: 39.2361 - val_mae: 4.9235\n",
      "Epoch 95/100\n",
      "542/542 [==============================] - 1s 1ms/step - loss: 35.9484 - mae: 4.5129 - val_loss: 39.7830 - val_mae: 4.9005\n",
      "Epoch 96/100\n",
      "542/542 [==============================] - 1s 1ms/step - loss: 36.3601 - mae: 4.6630 - val_loss: 38.4369 - val_mae: 4.8787\n",
      "Epoch 97/100\n",
      "542/542 [==============================] - 1s 1ms/step - loss: 42.7781 - mae: 4.7661 - val_loss: 44.5391 - val_mae: 5.1200\n",
      "Epoch 98/100\n",
      "542/542 [==============================] - 1s 1ms/step - loss: 41.6164 - mae: 4.6036 - val_loss: 38.2164 - val_mae: 4.7880\n",
      "Epoch 99/100\n",
      "542/542 [==============================] - 1s 1ms/step - loss: 38.8319 - mae: 4.5405 - val_loss: 38.8997 - val_mae: 4.8681\n",
      "Epoch 100/100\n",
      "542/542 [==============================] - 1s 1ms/step - loss: 40.6323 - mae: 4.4916 - val_loss: 37.3644 - val_mae: 4.7244\n"
     ]
    }
   ],
   "source": [
    "history=network.fit(partial_X_train,partial_y_train,epochs=100,validation_data=(val_X,val_y),batch_size=1,verbose=1)"
   ]
  },
  {
   "cell_type": "code",
   "execution_count": 55,
   "metadata": {
    "colab": {
     "base_uri": "https://localhost:8080/",
     "height": 299
    },
    "id": "XY28DpqQlLYr",
    "outputId": "7c7da302-bc29-4f76-ea15-c44d18fe22f5"
   },
   "outputs": [
    {
     "data": {
      "image/png": "[encoded data removed]",
      "text/plain": [
       "<Figure size 432x288 with 1 Axes>"
      ]
     },
     "metadata": {
      "tags": []
     },
     "output_type": "display_data"
    }
   ],
   "source": [
    "loss = history.history['loss']\n",
    "val_loss = history.history['val_loss']\n",
    "epochs = range(1, len(loss) + 1)\n",
    "plt.plot(epochs, loss, 'bo', label='Training loss')\n",
    "plt.plot(epochs, val_loss, 'b', label='Validation loss')\n",
    "plt.title('Training and validation loss')\n",
    "plt.xlabel('Epochs')\n",
    "plt.ylabel('Loss')\n",
    "plt.legend()\n",
    "plt.show()"
   ]
  },
  {
   "cell_type": "code",
   "execution_count": 56,
   "metadata": {
    "colab": {
     "base_uri": "https://localhost:8080/"
    },
    "id": "425Sn4TpmDgv",
    "outputId": "c46d4055-1bf1-4529-a7ed-d59e07a51339"
   },
   "outputs": [
    {
     "name": "stdout",
     "output_type": "stream",
     "text": [
      "[[19.41262435913086, 11.506553649902344, 10.615972518920898, 10.337181091308594, 10.631683349609375, 10.084441184997559, 9.881331443786621, 9.632811546325684, 9.514350891113281, 9.380221366882324, 9.262978553771973, 9.599615097045898, 9.397990226745605, 9.137332916259766, 9.082476615905762, 8.801859855651855, 9.181339263916016, 8.733016967773438, 8.493545532226562, 8.333755493164062, 8.373648643493652, 8.112921714782715, 8.158950805664062, 7.77959680557251, 7.7617621421813965, 7.901955604553223, 7.407886505126953, 7.22373628616333, 7.393070697784424, 7.073937892913818, 6.832466125488281, 6.776525497436523, 6.700617790222168, 6.72495698928833, 6.6693620681762695, 6.541415214538574, 6.55711030960083, 6.410000324249268, 6.348920822143555, 6.434919357299805, 6.217913627624512, 6.334003448486328, 6.019477844238281, 5.97441291809082, 6.0822434425354, 5.795517921447754, 5.7645111083984375, 5.654908657073975, 5.7241315841674805, 5.586026668548584, 5.303504943847656, 5.558824062347412, 5.494756698608398, 5.240835189819336, 5.178154945373535, 5.3424811363220215, 5.1233367919921875, 5.18149471282959, 5.069623947143555, 5.680450916290283, 5.127533912658691, 5.003337383270264, 5.051612854003906, 5.042765140533447, 4.979549884796143, 5.102717876434326, 5.0278778076171875, 5.0520429611206055, 5.0217719078063965, 5.236116409301758, 4.9620041847229, 4.968908309936523, 5.519118309020996, 4.976620197296143, 5.075962543487549, 4.924626350402832, 4.89863395690918, 4.891959190368652, 5.109813690185547, 5.033232688903809, 4.805557727813721, 5.043108940124512, 4.935725212097168, 4.862805366516113, 5.156790733337402, 4.913217544555664, 4.839667320251465, 4.807256698608398, 4.840935707092285, 4.8318562507629395, 5.005303382873535, 4.8766703605651855, 4.838208198547363, 4.923532009124756, 4.900527000427246, 4.878715515136719, 5.120022773742676, 4.78800630569458, 4.868120193481445, 4.724430561065674]]\n"
     ]
    }
   ],
   "source": [
    "all_mae_histories=[]\n",
    "mae_history = history.history['val_mae']\n",
    "all_mae_histories.append(mae_history)\n",
    "print(all_mae_histories)"
   ]
  },
  {
   "cell_type": "code",
   "execution_count": 57,
   "metadata": {
    "colab": {
     "base_uri": "https://localhost:8080/"
    },
    "id": "eYbwAuH9n0MS",
    "outputId": "67ccd856-da47-4d88-d071-3f751f2d1d5f"
   },
   "outputs": [
    {
     "name": "stdout",
     "output_type": "stream",
     "text": [
      "[19.41262435913086, 11.506553649902344]\n"
     ]
    }
   ],
   "source": [
    "average_mae_history = [np.mean([x[i] for x in all_mae_histories]) for i in range(2)]\n",
    "print(average_mae_history)"
   ]
  },
  {
   "cell_type": "code",
   "execution_count": 58,
   "metadata": {
    "colab": {
     "base_uri": "https://localhost:8080/",
     "height": 299
    },
    "id": "_QIM2eiRmxTw",
    "outputId": "db0f17ac-fcf3-4b82-80b2-43982dd87e3f"
   },
   "outputs": [
    {
     "data": {
      "image/png": "[encoded data removed]",
      "text/plain": [
       "<Figure size 432x288 with 1 Axes>"
      ]
     },
     "metadata": {
      "tags": []
     },
     "output_type": "display_data"
    }
   ],
   "source": [
    "plt.plot(range(1, len(average_mae_history) + 1), average_mae_history)\n",
    "plt.title('Validation MAE by Epochs')\n",
    "plt.xlabel('Epochs')\n",
    "plt.ylabel('Validation MAE')\n",
    "plt.grid()\n",
    "plt.show()"
   ]
  },
  {
   "cell_type": "code",
   "execution_count": 59,
   "metadata": {
    "colab": {
     "base_uri": "https://localhost:8080/"
    },
    "id": "aedgvZfCoEqr",
    "outputId": "230abac1-6816-40a3-80e0-f9ce36cde468"
   },
   "outputs": [
    {
     "name": "stdout",
     "output_type": "stream",
     "text": [
      "9/9 [==============================] - 0s 2ms/step - loss: 43.1998 - mae: 4.6785\n"
     ]
    }
   ],
   "source": [
    "test_mse_score, test_mae_score = network.evaluate(X_test, y_test)"
   ]
  },
  {
   "cell_type": "code",
   "execution_count": 60,
   "metadata": {
    "colab": {
     "base_uri": "https://localhost:8080/"
    },
    "id": "VGsxBThTqvjm",
    "outputId": "0ac03cc4-3fab-4b60-f2bc-42182913b5db"
   },
   "outputs": [
    {
     "data": {
      "text/plain": [
       "4.678529262542725"
      ]
     },
     "execution_count": 60,
     "metadata": {
      "tags": []
     },
     "output_type": "execute_result"
    }
   ],
   "source": [
    " test_mae_score"
   ]
  },
  {
   "cell_type": "code",
   "execution_count": 61,
   "metadata": {
    "colab": {
     "base_uri": "https://localhost:8080/"
    },
    "id": "qepWbko8rXy7",
    "outputId": "9fcaf781-af2b-4da9-da58-d1a077e475c6"
   },
   "outputs": [
    {
     "data": {
      "text/plain": [
       "array([[26.991642 ],\n",
       "       [13.110714 ],\n",
       "       [72.67483  ],\n",
       "       [59.55909  ],\n",
       "       [ 7.638341 ],\n",
       "       [48.80372  ],\n",
       "       [59.550526 ],\n",
       "       [20.275959 ],\n",
       "       [67.320786 ],\n",
       "       [39.0683   ],\n",
       "       [19.727106 ],\n",
       "       [50.390446 ],\n",
       "       [33.50877  ],\n",
       "       [16.03943  ],\n",
       "       [56.168674 ],\n",
       "       [58.580524 ],\n",
       "       [37.38611  ],\n",
       "       [32.182533 ],\n",
       "       [53.538506 ],\n",
       "       [38.554623 ],\n",
       "       [53.35543  ],\n",
       "       [27.683535 ],\n",
       "       [29.793955 ],\n",
       "       [50.45653  ],\n",
       "       [17.039213 ],\n",
       "       [28.282227 ],\n",
       "       [69.013374 ],\n",
       "       [20.990263 ],\n",
       "       [58.580524 ],\n",
       "       [64.19785  ],\n",
       "       [23.031168 ],\n",
       "       [40.838673 ],\n",
       "       [22.262705 ],\n",
       "       [30.78071  ],\n",
       "       [17.567942 ],\n",
       "       [ 8.743632 ],\n",
       "       [45.21808  ],\n",
       "       [28.514984 ],\n",
       "       [35.5713   ],\n",
       "       [33.461674 ],\n",
       "       [53.98309  ],\n",
       "       [34.21602  ],\n",
       "       [28.09104  ],\n",
       "       [41.168243 ],\n",
       "       [70.322    ],\n",
       "       [39.39867  ],\n",
       "       [26.760202 ],\n",
       "       [39.28646  ],\n",
       "       [27.732826 ],\n",
       "       [43.213642 ],\n",
       "       [45.14209  ],\n",
       "       [21.930954 ],\n",
       "       [28.169226 ],\n",
       "       [35.782127 ],\n",
       "       [50.442623 ],\n",
       "       [48.909107 ],\n",
       "       [43.117123 ],\n",
       "       [55.7799   ],\n",
       "       [63.00326  ],\n",
       "       [41.793076 ],\n",
       "       [37.378967 ],\n",
       "       [17.352644 ],\n",
       "       [50.999184 ],\n",
       "       [39.89835  ],\n",
       "       [11.784092 ],\n",
       "       [54.30278  ],\n",
       "       [38.497704 ],\n",
       "       [33.95057  ],\n",
       "       [12.49986  ],\n",
       "       [12.292846 ],\n",
       "       [15.250818 ],\n",
       "       [29.690235 ],\n",
       "       [43.424397 ],\n",
       "       [23.534174 ],\n",
       "       [38.066788 ],\n",
       "       [36.966187 ],\n",
       "       [29.69406  ],\n",
       "       [11.031332 ],\n",
       "       [30.012043 ],\n",
       "       [33.033577 ],\n",
       "       [11.712416 ],\n",
       "       [52.611195 ],\n",
       "       [20.678993 ],\n",
       "       [28.092089 ],\n",
       "       [43.083393 ],\n",
       "       [40.49044  ],\n",
       "       [37.85784  ],\n",
       "       [49.914097 ],\n",
       "       [43.115803 ],\n",
       "       [41.598843 ],\n",
       "       [57.08782  ],\n",
       "       [15.589648 ],\n",
       "       [12.02479  ],\n",
       "       [45.795135 ],\n",
       "       [24.374382 ],\n",
       "       [47.201157 ],\n",
       "       [19.756508 ],\n",
       "       [37.65889  ],\n",
       "       [50.1624   ],\n",
       "       [33.228695 ],\n",
       "       [23.622587 ],\n",
       "       [34.02785  ],\n",
       "       [26.810904 ],\n",
       "       [33.033966 ],\n",
       "       [44.35978  ],\n",
       "       [44.314518 ],\n",
       "       [44.203968 ],\n",
       "       [23.532387 ],\n",
       "       [33.433884 ],\n",
       "       [44.25564  ],\n",
       "       [11.805924 ],\n",
       "       [63.51199  ],\n",
       "       [12.816982 ],\n",
       "       [28.307543 ],\n",
       "       [49.21326  ],\n",
       "       [64.474884 ],\n",
       "       [38.014465 ],\n",
       "       [36.57238  ],\n",
       "       [34.19614  ],\n",
       "       [19.271923 ],\n",
       "       [44.47586  ],\n",
       "       [30.620955 ],\n",
       "       [68.00546  ],\n",
       "       [29.83326  ],\n",
       "       [11.934071 ],\n",
       "       [ 6.7920957],\n",
       "       [ 7.2949514],\n",
       "       [12.827632 ],\n",
       "       [53.150192 ],\n",
       "       [37.58748  ],\n",
       "       [38.225086 ],\n",
       "       [39.14579  ],\n",
       "       [30.45288  ],\n",
       "       [26.899944 ],\n",
       "       [ 6.0864353],\n",
       "       [54.171135 ],\n",
       "       [40.380787 ],\n",
       "       [36.847828 ],\n",
       "       [ 9.433211 ],\n",
       "       [14.980708 ],\n",
       "       [31.939564 ],\n",
       "       [39.544834 ],\n",
       "       [21.506262 ],\n",
       "       [30.395111 ],\n",
       "       [20.417694 ],\n",
       "       [28.916199 ],\n",
       "       [37.512886 ],\n",
       "       [16.681671 ],\n",
       "       [36.37145  ],\n",
       "       [19.516726 ],\n",
       "       [15.842646 ],\n",
       "       [19.481346 ],\n",
       "       [18.087425 ],\n",
       "       [30.963718 ],\n",
       "       [32.456665 ],\n",
       "       [32.651363 ],\n",
       "       [37.512245 ],\n",
       "       [26.154345 ],\n",
       "       [36.455193 ],\n",
       "       [29.331532 ],\n",
       "       [50.92506  ],\n",
       "       [37.89402  ],\n",
       "       [12.3521385],\n",
       "       [31.12097  ],\n",
       "       [37.0073   ],\n",
       "       [10.864544 ],\n",
       "       [43.902695 ],\n",
       "       [55.899452 ],\n",
       "       [43.057827 ],\n",
       "       [ 7.170929 ],\n",
       "       [31.468346 ],\n",
       "       [33.454876 ],\n",
       "       [30.998774 ],\n",
       "       [38.681923 ],\n",
       "       [17.22978  ],\n",
       "       [ 9.895375 ],\n",
       "       [18.645496 ],\n",
       "       [35.988617 ],\n",
       "       [30.982525 ],\n",
       "       [49.43193  ],\n",
       "       [11.396167 ],\n",
       "       [33.21249  ],\n",
       "       [10.998652 ],\n",
       "       [50.925926 ],\n",
       "       [13.791186 ],\n",
       "       [32.873287 ],\n",
       "       [34.416763 ],\n",
       "       [41.72729  ],\n",
       "       [18.665897 ],\n",
       "       [50.999184 ],\n",
       "       [24.816826 ],\n",
       "       [71.69445  ],\n",
       "       [56.22159  ],\n",
       "       [32.402138 ],\n",
       "       [10.330353 ],\n",
       "       [39.728905 ],\n",
       "       [34.296993 ],\n",
       "       [29.31632  ],\n",
       "       [33.827045 ],\n",
       "       [68.783295 ],\n",
       "       [17.139019 ],\n",
       "       [27.933323 ],\n",
       "       [34.5313   ],\n",
       "       [31.733217 ],\n",
       "       [38.627117 ],\n",
       "       [16.732046 ],\n",
       "       [46.51978  ],\n",
       "       [36.84259  ],\n",
       "       [31.399796 ],\n",
       "       [16.893986 ],\n",
       "       [55.884995 ],\n",
       "       [17.90111  ],\n",
       "       [12.065297 ],\n",
       "       [28.959597 ],\n",
       "       [39.295643 ],\n",
       "       [27.723398 ],\n",
       "       [27.301031 ],\n",
       "       [25.587605 ],\n",
       "       [18.922712 ],\n",
       "       [43.081787 ],\n",
       "       [63.464527 ],\n",
       "       [22.05576  ],\n",
       "       [43.191196 ],\n",
       "       [45.032722 ],\n",
       "       [34.4813   ],\n",
       "       [39.204052 ],\n",
       "       [26.133747 ],\n",
       "       [39.56728  ],\n",
       "       [13.557939 ],\n",
       "       [47.008648 ],\n",
       "       [29.445423 ],\n",
       "       [37.300434 ],\n",
       "       [48.95785  ],\n",
       "       [25.668747 ],\n",
       "       [45.966167 ],\n",
       "       [20.960566 ],\n",
       "       [35.829086 ],\n",
       "       [36.40368  ],\n",
       "       [22.75144  ],\n",
       "       [72.240616 ],\n",
       "       [82.62417  ],\n",
       "       [35.99276  ],\n",
       "       [55.112263 ],\n",
       "       [31.926617 ],\n",
       "       [25.985693 ],\n",
       "       [19.055765 ],\n",
       "       [37.917824 ],\n",
       "       [29.72124  ],\n",
       "       [44.352913 ],\n",
       "       [10.251683 ],\n",
       "       [ 9.700198 ],\n",
       "       [52.591614 ],\n",
       "       [43.966095 ],\n",
       "       [39.93297  ],\n",
       "       [40.40464  ],\n",
       "       [16.899015 ],\n",
       "       [19.08683  ],\n",
       "       [13.971926 ]], dtype=float32)"
      ]
     },
     "execution_count": 61,
     "metadata": {
      "tags": []
     },
     "output_type": "execute_result"
    }
   ],
   "source": [
    "y_pred = network.predict(X_test)\n",
    "y_pred"
   ]
  },
  {
   "cell_type": "code",
   "execution_count": 62,
   "metadata": {
    "colab": {
     "base_uri": "https://localhost:8080/"
    },
    "id": "dBdthc-vsw4_",
    "outputId": "82973f69-c7ea-4781-843d-b0f96fe80fd0"
   },
   "outputs": [
    {
     "data": {
      "text/plain": [
       "747    26.06\n",
       "718    10.35\n",
       "175    79.30\n",
       "828    74.99\n",
       "713     9.69\n",
       "       ...  \n",
       "453    31.72\n",
       "906    39.42\n",
       "757    18.13\n",
       "875    18.28\n",
       "62      9.87\n",
       "Name: Concrete compressive strength(MPa, megapascals) , Length: 258, dtype: float64"
      ]
     },
     "execution_count": 62,
     "metadata": {
      "tags": []
     },
     "output_type": "execute_result"
    }
   ],
   "source": [
    "y_test"
   ]
  },
  {
   "cell_type": "code",
   "execution_count": 63,
   "metadata": {
    "colab": {
     "base_uri": "https://localhost:8080/",
     "height": 339
    },
    "id": "osFYrcPkrnnE",
    "outputId": "287fef90-11f1-4f46-8916-560093240087"
   },
   "outputs": [
    {
     "data": {
      "image/png": "[encoded data removed]",
      "text/plain": [
       "<Figure size 1440x360 with 2 Axes>"
      ]
     },
     "metadata": {
      "tags": []
     },
     "output_type": "display_data"
    }
   ],
   "source": [
    "plt.figure(figsize=(20,5))\n",
    "plt.subplot(1, 2, 1 )\n",
    "plt.hist(y_test)\n",
    "plt.xlabel('original target value')\n",
    "plt.ylabel('count')\n",
    "plt.subplot(1, 2, 2)\n",
    "plt.hist(y_pred)\n",
    "plt.xlabel('aggregated target value')\n",
    "plt.show()"
   ]
  },
  {
   "cell_type": "code",
   "execution_count": 63,
   "metadata": {
    "id": "-YIuldnqskJz"
   },
   "outputs": [],
   "source": []
  }
 ],
 "metadata": {
  "colab": {
   "include_colab_link": true,
   "name": "Concrete_Strength_Assignment.ipynb",
   "provenance": []
  },
  "kernelspec": {
   "display_name": "Python 3",
   "language": "python",
   "name": "python3"
  },
  "language_info": {
   "codemirror_mode": {
    "name": "ipython",
    "version": 3
   },
   "file_extension": ".py",
   "mimetype": "text/x-python",
   "name": "python",
   "nbconvert_exporter": "python",
   "pygments_lexer": "ipython3",
   "version": "3.8.8"
  }
 },
 "nbformat": 4,
 "nbformat_minor": 1
}

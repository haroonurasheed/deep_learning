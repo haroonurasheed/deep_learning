{
 "cells": [
  {
   "cell_type": "markdown",
   "metadata": {
    "id": "BXgJ6uT1NydQ"
   },
   "source": [
    "Assignment: Flowers Recognition <br>\n",
    "Dataset Description:<br>\n",
    "\n",
    "This dataset contains 4242 images of flowers.<br>\n",
    "The data collection is based on the data flicr, google images, yandex images.<br>\n",
    "You can use this datastet to recognize plants from the photo.<br>\n",
    "\n",
    "Attribute Information:<br>\n",
    "The pictures are divided into five classes: chamomile, tulip, rose, sunflower, dandelion.<br>\n",
    "For each class there are about 800 photos. Photos are not high resolution, about 320x240 pixels. <br>\n",
    "<b>Also explore how to resize images in tensorflow and then resize all the images to a same size. </b> <br>\n",
    "This is a Multiclass Classification Problem.<br>\n",
    "\n",
    "\n"
   ]
  },
  {
   "cell_type": "markdown",
   "metadata": {
    "id": "T7vy-ktuOKJH"
   },
   "source": [
    "WORKFLOW : <br>\n",
    "Load Data <br>\n",
    "Split into 60 and 40 ratio.<br>\n",
    "Encode labels.<br>\n",
    "Create Model<br>\n",
    "Compilation Step (Note : Its a Multiclass Classification problem , select loss , metrics according to it)<br>\n",
    "Train the Model.<br>\n",
    "If the model gets overfit tune your model by changing the units , No. of layers , epochs , add dropout layer or add Regularizer according to the need .<br>\n",
    "Prediction should be > 85%<br>\n",
    "Evaluation Step<br>\n",
    "Prediction<br>\n",
    "\n",
    "\n"
   ]
  },
  {
   "cell_type": "code",
   "execution_count": 2,
   "metadata": {
    "id": "rjCUP87-ijAX"
   },
   "outputs": [],
   "source": [
    "import matplotlib.pyplot as plt\n",
    "import numpy as np\n",
    "from os import listdir\n",
    "import os\n",
    "from os.path import join\n",
    "import cv2\n",
    "import pandas as pd"
   ]
  },
  {
   "cell_type": "code",
   "execution_count": 3,
   "metadata": {
    "colab": {
     "base_uri": "https://localhost:8080/"
    },
    "id": "qMhfx2NSirz9",
    "outputId": "88d9ea30-0cfb-48f0-c4cc-d1881cdab9be"
   },
   "outputs": [
    {
     "name": "stdout",
     "output_type": "stream",
     "text": [
      "['rose', 'tulip', 'dandelion', 'sunflower', 'daisy']\n"
     ]
    }
   ],
   "source": [
    "data = \"/flowers\"\n",
    "\n",
    "# List out the directories inside the main input folder\n",
    "\n",
    "folders = os.listdir(data)\n",
    "\n",
    "print(folders)"
   ]
  },
  {
   "cell_type": "code",
   "execution_count": 4,
   "metadata": {
    "id": "sQRanLSai1KF"
   },
   "outputs": [],
   "source": [
    "image_names = []\n",
    "labels = []\n",
    "data_images = []\n",
    "\n",
    "\n",
    "size = 128,128\n",
    "\n",
    "for folder in folders:\n",
    "    for file in os.listdir(os.path.join(data,folder)):\n",
    "        if file.endswith(\"jpg\"):\n",
    "            image_names.append(os.path.join(data,folder,file))\n",
    "            labels.append(folder)\n",
    "            img = cv2.imread(os.path.join(data,folder,file))\n",
    "            im = cv2.resize(img,size)\n",
    "            data_images.append(im)\n",
    "        else:\n",
    "            continue"
   ]
  },
  {
   "cell_type": "code",
   "execution_count": 5,
   "metadata": {
    "id": "C4pC3a7bkRyb"
   },
   "outputs": [],
   "source": [
    "label_dummies = pd.get_dummies(labels)\n",
    "\n",
    "labels =  label_dummies.values.argmax(1)"
   ]
  },
  {
   "cell_type": "code",
   "execution_count": 6,
   "metadata": {
    "colab": {
     "base_uri": "https://localhost:8080/"
    },
    "id": "wSXWu7L1kbyx",
    "outputId": "7eef3177-e486-4d9e-f2db-ac3fbdbf87c9"
   },
   "outputs": [
    {
     "data": {
      "text/plain": [
       "array([2, 4, 1, 3, 0])"
      ]
     },
     "execution_count": 6,
     "metadata": {
      "tags": []
     },
     "output_type": "execute_result"
    }
   ],
   "source": [
    "pd.unique(labels)"
   ]
  },
  {
   "cell_type": "code",
   "execution_count": 7,
   "metadata": {
    "id": "K44s9m3xknP1"
   },
   "outputs": [],
   "source": [
    "labels=np.asarray(labels).astype(\"float32\")\n",
    "data = np.asarray(data_images).astype(\"float32\")/255.0"
   ]
  },
  {
   "cell_type": "code",
   "execution_count": 8,
   "metadata": {
    "colab": {
     "base_uri": "https://localhost:8080/"
    },
    "id": "uKJljbrQk0AP",
    "outputId": "14d93093-e8cf-4d8b-e70c-05353d5b4b9e"
   },
   "outputs": [
    {
     "name": "stdout",
     "output_type": "stream",
     "text": [
      "Shape of images is :(4328, 128, 128, 3)\n",
      "Shape of labels is :(4328,)\n"
     ]
    }
   ],
   "source": [
    "print(f\"Shape of images is :{data.shape}\")\n",
    "print(f\"Shape of labels is :{labels.shape}\")"
   ]
  },
  {
   "cell_type": "code",
   "execution_count": 9,
   "metadata": {
    "id": "lgjzppfPlIsm"
   },
   "outputs": [],
   "source": [
    "import sklearn\n",
    "from sklearn.model_selection import train_test_split\n",
    "X_train,X_test,y_train,y_test=train_test_split(data,labels,test_size=.40,random_state=1)"
   ]
  },
  {
   "cell_type": "code",
   "execution_count": 10,
   "metadata": {
    "colab": {
     "base_uri": "https://localhost:8080/"
    },
    "id": "Oi5UXV5MlSW2",
    "outputId": "ed680e1d-6a75-4b8e-f3b3-b2b17bdc5bb5"
   },
   "outputs": [
    {
     "name": "stdout",
     "output_type": "stream",
     "text": [
      "Shape of training data is:(2596, 128, 128, 3)\n",
      "Shape of testing data is :(1732, 128, 128, 3)\n"
     ]
    }
   ],
   "source": [
    "print(f\"Shape of training data is:{X_train.shape}\\nShape of testing data is :{X_test.shape}\")"
   ]
  },
  {
   "cell_type": "code",
   "execution_count": 11,
   "metadata": {
    "colab": {
     "base_uri": "https://localhost:8080/"
    },
    "id": "ORjHMjovlY06",
    "outputId": "cada46d2-0416-433b-848d-ce57f14620a4"
   },
   "outputs": [
    {
     "name": "stdout",
     "output_type": "stream",
     "text": [
      "Shape of training labels is:(2596,)\n",
      "Shape of testing labels is :(1732,)\n"
     ]
    }
   ],
   "source": [
    "print(f\"Shape of training labels is:{y_train.shape}\\nShape of testing labels is :{y_test.shape}\")"
   ]
  },
  {
   "cell_type": "code",
   "execution_count": 12,
   "metadata": {
    "colab": {
     "base_uri": "https://localhost:8080/"
    },
    "id": "p3DLjvzQlg-P",
    "outputId": "76544f68-b31d-4639-d33f-1c3f89b7fdc8"
   },
   "outputs": [
    {
     "data": {
      "text/plain": [
       "array([[[0.02745098, 0.05098039, 0.05098039],\n",
       "        [0.01568628, 0.07450981, 0.0627451 ],\n",
       "        [0.04313726, 0.12156863, 0.07843138],\n",
       "        ...,\n",
       "        [0.01568628, 0.2509804 , 0.33333334],\n",
       "        [0.01568628, 0.3019608 , 0.40392157],\n",
       "        [0.        , 0.29803923, 0.38431373]],\n",
       "\n",
       "       [[0.00392157, 0.02352941, 0.01960784],\n",
       "        [0.05882353, 0.10196079, 0.10196079],\n",
       "        [0.02352941, 0.05490196, 0.04705882],\n",
       "        ...,\n",
       "        [0.05098039, 0.28627452, 0.36862746],\n",
       "        [0.        , 0.31764707, 0.4117647 ],\n",
       "        [0.        , 0.31764707, 0.39607844]],\n",
       "\n",
       "       [[0.00784314, 0.03921569, 0.02352941],\n",
       "        [0.        , 0.02352941, 0.01960784],\n",
       "        [0.15294118, 0.1764706 , 0.17254902],\n",
       "        ...,\n",
       "        [0.01176471, 0.3137255 , 0.39215687],\n",
       "        [0.        , 0.32156864, 0.40392157],\n",
       "        [0.01568628, 0.30588236, 0.39215687]],\n",
       "\n",
       "       ...,\n",
       "\n",
       "       [[0.5294118 , 0.7764706 , 0.85490197],\n",
       "        [0.6431373 , 0.7647059 , 0.827451  ],\n",
       "        [0.70980394, 0.7882353 , 0.85490197],\n",
       "        ...,\n",
       "        [0.00784314, 0.07450981, 0.01960784],\n",
       "        [0.10588235, 0.3647059 , 0.49019608],\n",
       "        [0.07450981, 0.2       , 0.27058825]],\n",
       "\n",
       "       [[0.42352942, 0.7490196 , 0.8392157 ],\n",
       "        [0.5803922 , 0.76862746, 0.8235294 ],\n",
       "        [0.6431373 , 0.78431374, 0.84705883],\n",
       "        ...,\n",
       "        [0.01176471, 0.10588235, 0.05098039],\n",
       "        [0.01568628, 0.06666667, 0.03529412],\n",
       "        [0.03529412, 0.08627451, 0.04313726]],\n",
       "\n",
       "       [[0.1764706 , 0.74509805, 0.8235294 ],\n",
       "        [0.47058824, 0.7529412 , 0.8117647 ],\n",
       "        [0.5803922 , 0.7764706 , 0.8392157 ],\n",
       "        ...,\n",
       "        [0.00392157, 0.11372549, 0.05098039],\n",
       "        [0.03137255, 0.10980392, 0.06666667],\n",
       "        [0.03921569, 0.11764706, 0.05490196]]], dtype=float32)"
      ]
     },
     "execution_count": 12,
     "metadata": {
      "tags": []
     },
     "output_type": "execute_result"
    }
   ],
   "source": [
    "# Check first image of Training data\n",
    "X_train[0]"
   ]
  },
  {
   "cell_type": "code",
   "execution_count": 13,
   "metadata": {
    "id": "N0YESoMelvVk"
   },
   "outputs": [],
   "source": [
    "\n",
    "from keras.models import Sequential\n",
    "from keras.layers import Conv2D,MaxPool2D,Flatten,Dense\n",
    "\n",
    "network =Sequential()\n",
    "network.add(Conv2D(10, (2,2),input_shape=(128, 128, 3),activation='relu'))\n",
    "network.add(MaxPool2D(pool_size=(2,2)))\n",
    "network.add(Conv2D(12, (2,2),activation='relu'))\n",
    "network.add(MaxPool2D(pool_size=(2,2)))\n",
    "network.add(Flatten())\n",
    "network.add(Dense(128,activation='relu'))\n",
    "network.add(Dense(5,activation='softmax'))"
   ]
  },
  {
   "cell_type": "code",
   "execution_count": 14,
   "metadata": {
    "colab": {
     "base_uri": "https://localhost:8080/"
    },
    "id": "_S96E_2bmPlK",
    "outputId": "2c243b5a-b4b0-4c55-bc1a-7868b5a6c319"
   },
   "outputs": [
    {
     "name": "stdout",
     "output_type": "stream",
     "text": [
      "Model: \"sequential\"\n",
      "_________________________________________________________________\n",
      "Layer (type)                 Output Shape              Param #   \n",
      "=================================================================\n",
      "conv2d (Conv2D)              (None, 127, 127, 10)      130       \n",
      "_________________________________________________________________\n",
      "max_pooling2d (MaxPooling2D) (None, 63, 63, 10)        0         \n",
      "_________________________________________________________________\n",
      "conv2d_1 (Conv2D)            (None, 62, 62, 12)        492       \n",
      "_________________________________________________________________\n",
      "max_pooling2d_1 (MaxPooling2 (None, 31, 31, 12)        0         \n",
      "_________________________________________________________________\n",
      "flatten (Flatten)            (None, 11532)             0         \n",
      "_________________________________________________________________\n",
      "dense (Dense)                (None, 128)               1476224   \n",
      "_________________________________________________________________\n",
      "dense_1 (Dense)              (None, 5)                 645       \n",
      "=================================================================\n",
      "Total params: 1,477,491\n",
      "Trainable params: 1,477,491\n",
      "Non-trainable params: 0\n",
      "_________________________________________________________________\n"
     ]
    }
   ],
   "source": [
    "network.summary()"
   ]
  },
  {
   "cell_type": "code",
   "execution_count": 15,
   "metadata": {
    "id": "n792k2V9mV5S"
   },
   "outputs": [],
   "source": [
    "network.compile(loss='sparse_categorical_crossentropy',optimizer='adam',metrics=['accuracy'])"
   ]
  },
  {
   "cell_type": "code",
   "execution_count": 16,
   "metadata": {
    "id": "6S1WpGV3meVe"
   },
   "outputs": [],
   "source": [
    "x_val = X_train[:700]\n",
    "partial_x_train = X_train[700:]\n",
    "y_val = y_train[:700]\n",
    "partial_y_train = y_train[700:]"
   ]
  },
  {
   "cell_type": "code",
   "execution_count": 17,
   "metadata": {
    "colab": {
     "base_uri": "https://localhost:8080/"
    },
    "id": "1Ls2-VvTmmpT",
    "outputId": "1863a17b-32d0-4659-c235-6c22eec56c12"
   },
   "outputs": [
    {
     "name": "stdout",
     "output_type": "stream",
     "text": [
      "Epoch 1/10\n",
      "380/380 [==============================] - 5s 6ms/step - loss: 1.5615 - accuracy: 0.3582 - val_loss: 1.0694 - val_accuracy: 0.5614\n",
      "Epoch 2/10\n",
      "380/380 [==============================] - 2s 4ms/step - loss: 0.9963 - accuracy: 0.6304 - val_loss: 1.0615 - val_accuracy: 0.5714\n",
      "Epoch 3/10\n",
      "380/380 [==============================] - 2s 4ms/step - loss: 0.7331 - accuracy: 0.7406 - val_loss: 1.0280 - val_accuracy: 0.6129\n",
      "Epoch 4/10\n",
      "380/380 [==============================] - 2s 4ms/step - loss: 0.3623 - accuracy: 0.8898 - val_loss: 1.2773 - val_accuracy: 0.5814\n",
      "Epoch 5/10\n",
      "380/380 [==============================] - 2s 4ms/step - loss: 0.1552 - accuracy: 0.9604 - val_loss: 1.5095 - val_accuracy: 0.5786\n",
      "Epoch 6/10\n",
      "380/380 [==============================] - 2s 4ms/step - loss: 0.0937 - accuracy: 0.9764 - val_loss: 1.8714 - val_accuracy: 0.5486\n",
      "Epoch 7/10\n",
      "380/380 [==============================] - 2s 4ms/step - loss: 0.0882 - accuracy: 0.9783 - val_loss: 1.9044 - val_accuracy: 0.5829\n",
      "Epoch 8/10\n",
      "380/380 [==============================] - 1s 4ms/step - loss: 0.0185 - accuracy: 0.9984 - val_loss: 2.3975 - val_accuracy: 0.5614\n",
      "Epoch 9/10\n",
      "380/380 [==============================] - 2s 4ms/step - loss: 0.0808 - accuracy: 0.9779 - val_loss: 3.1287 - val_accuracy: 0.5014\n",
      "Epoch 10/10\n",
      "380/380 [==============================] - 2s 4ms/step - loss: 0.1040 - accuracy: 0.9751 - val_loss: 2.1135 - val_accuracy: 0.5443\n"
     ]
    }
   ],
   "source": [
    "batch_size = 5\n",
    "epochs = 10\n",
    "history=network.fit(partial_x_train, partial_y_train,batch_size=batch_size,epochs=epochs,validation_data=(x_val, y_val))"
   ]
  },
  {
   "cell_type": "code",
   "execution_count": 18,
   "metadata": {
    "colab": {
     "base_uri": "https://localhost:8080/"
    },
    "id": "XOKqPlKVoG3n",
    "outputId": "c51b5818-70f0-4c5b-cb8c-41511e5a1746"
   },
   "outputs": [
    {
     "data": {
      "text/plain": [
       "['accuracy', 'loss', 'val_accuracy', 'val_loss']"
      ]
     },
     "execution_count": 18,
     "metadata": {
      "tags": []
     },
     "output_type": "execute_result"
    }
   ],
   "source": [
    "history_dict = history.history\n",
    "history_dict.keys()\n",
    "[u'accuracy', u'loss', u'val_accuracy', u'val_loss']"
   ]
  },
  {
   "cell_type": "code",
   "execution_count": 19,
   "metadata": {
    "colab": {
     "base_uri": "https://localhost:8080/",
     "height": 295
    },
    "id": "d_jrpFDNoMBr",
    "outputId": "9d643c34-73b9-4f94-b309-783bb4a08538"
   },
   "outputs": [
    {
     "data": {
      "image/png": "[encoded data removed]",
      "text/plain": [
       "<Figure size 432x288 with 1 Axes>"
      ]
     },
     "metadata": {
      "needs_background": "light",
      "tags": []
     },
     "output_type": "display_data"
    }
   ],
   "source": [
    "import matplotlib.pyplot as plt\n",
    "history_dict = history.history\n",
    "loss_values = history_dict['loss']\n",
    "val_loss_values = history_dict['val_loss']\n",
    "epochs = range(1, len(history_dict['accuracy']) + 1)\n",
    "plt.plot(epochs, loss_values, 'bo', label='Training loss')\n",
    "plt.plot(epochs, val_loss_values, 'b', label='Validation loss')\n",
    "plt.title('Training and validation loss')\n",
    "plt.xlabel('Epochs')\n",
    "plt.ylabel('Loss')\n",
    "plt.legend()\n",
    "plt.show()"
   ]
  },
  {
   "cell_type": "code",
   "execution_count": 20,
   "metadata": {
    "colab": {
     "base_uri": "https://localhost:8080/"
    },
    "id": "e7YE-tSIoVbg",
    "outputId": "6b1a27e1-3539-4997-f219-2f2491d4addb"
   },
   "outputs": [
    {
     "name": "stdout",
     "output_type": "stream",
     "text": [
      "55/55 [==============================] - 0s 6ms/step - loss: 2.2580 - accuracy: 0.5520\n"
     ]
    },
    {
     "data": {
      "text/plain": [
       "[2.258028268814087, 0.5519630312919617]"
      ]
     },
     "execution_count": 20,
     "metadata": {
      "tags": []
     },
     "output_type": "execute_result"
    }
   ],
   "source": [
    "network.evaluate(X_test,y_test)"
   ]
  },
  {
   "cell_type": "code",
   "execution_count": 21,
   "metadata": {
    "colab": {
     "base_uri": "https://localhost:8080/"
    },
    "id": "5KGPXxq7oh8p",
    "outputId": "b0c168a1-304e-473b-8fa4-cf1be61c8da6"
   },
   "outputs": [
    {
     "name": "stdout",
     "output_type": "stream",
     "text": [
      "2 ==> 1.0\n",
      "1 ==> 1.0\n",
      "2 ==> 4.0\n",
      "4 ==> 0.0\n",
      "1 ==> 1.0\n",
      "4 ==> 4.0\n",
      "1 ==> 1.0\n",
      "1 ==> 1.0\n",
      "4 ==> 4.0\n",
      "1 ==> 1.0\n"
     ]
    },
    {
     "name": "stderr",
     "output_type": "stream",
     "text": [
      "/usr/local/lib/python3.7/dist-packages/tensorflow/python/keras/engine/sequential.py:450: UserWarning: `model.predict_classes()` is deprecated and will be removed after 2021-01-01. Please use instead:* `np.argmax(model.predict(x), axis=-1)`,   if your model does multi-class classification   (e.g. if it uses a `softmax` last-layer activation).* `(model.predict(x) > 0.5).astype(\"int32\")`,   if your model does binary classification   (e.g. if it uses a `sigmoid` last-layer activation).\n",
      "  warnings.warn('`model.predict_classes()` is deprecated and '\n"
     ]
    }
   ],
   "source": [
    "pred = network.predict_classes(X_test[:10])\n",
    "for i in range(len(pred)):\n",
    "    print(pred[i],'==>',y_test[i])"
   ]
  },
  {
   "cell_type": "code",
   "execution_count": 22,
   "metadata": {
    "colab": {
     "base_uri": "https://localhost:8080/",
     "height": 334
    },
    "id": "qrbZLEZDor76",
    "outputId": "6679c30a-5552-4476-ed33-9130a2ea304d"
   },
   "outputs": [
    {
     "data": {
      "image/png": "[encoded data removed]",
      "text/plain": [
       "<Figure size 1440x360 with 2 Axes>"
      ]
     },
     "metadata": {
      "needs_background": "light",
      "tags": []
     },
     "output_type": "display_data"
    }
   ],
   "source": [
    "plt.figure(figsize=(20,5))\n",
    "plt.subplot(1, 2, 1 )\n",
    "plt.hist(y_test[:10])\n",
    "plt.xlabel('original target value')\n",
    "plt.ylabel('count')\n",
    "plt.subplot(1, 2, 2)\n",
    "plt.hist(pred)\n",
    "plt.xlabel('aggregated target value')\n",
    "plt.ylabel('count')\n",
    "plt.show()"
   ]
  },
  {
   "cell_type": "code",
   "execution_count": 22,
   "metadata": {
    "id": "kgCJNDUGpGcY"
   },
   "outputs": [],
   "source": []
  }
 ],
 "metadata": {
  "accelerator": "GPU",
  "colab": {
   "include_colab_link": true,
   "name": "Flowers_Recognition.ipynb",
   "provenance": []
  },
  "kernelspec": {
   "display_name": "Python 3",
   "language": "python",
   "name": "python3"
  },
  "language_info": {
   "codemirror_mode": {
    "name": "ipython",
    "version": 3
   },
   "file_extension": ".py",
   "mimetype": "text/x-python",
   "name": "python",
   "nbconvert_exporter": "python",
   "pygments_lexer": "ipython3",
   "version": "3.8.8"
  }
 },
 "nbformat": 4,
 "nbformat_minor": 1
}

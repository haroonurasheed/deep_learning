{
 "cells": [
  {
   "cell_type": "markdown",
   "metadata": {
    "id": "mOAKh0VX6A_w"
   },
   "source": [
    "# Car Price Prediction::"
   ]
  },
  {
   "cell_type": "markdown",
   "metadata": {
    "id": "aSstHJZc6A_9"
   },
   "source": [
    "Download dataset from this link:\n",
    "\n",
    "https://www.kaggle.com/hellbuoy/car-price-prediction"
   ]
  },
  {
   "cell_type": "markdown",
   "metadata": {
    "id": "PyE92shr6BAE"
   },
   "source": [
    "# Problem Statement::"
   ]
  },
  {
   "cell_type": "markdown",
   "metadata": {
    "id": "Xpwxam0R6BAF"
   },
   "source": [
    "A Chinese automobile company Geely Auto aspires to enter the US market by setting up their manufacturing unit there and producing cars locally to give competition to their US and European counterparts.\n",
    "\n",
    "They have contracted an automobile consulting company to understand the factors on which the pricing of cars depends. Specifically, they want to understand the factors affecting the pricing of cars in the American market, since those may be very different from the Chinese market. The company wants to know:\n",
    "\n",
    "Which variables are significant in predicting the price of a car\n",
    "How well those variables describe the price of a car\n",
    "Based on various market surveys, the consulting firm has gathered a large data set of different types of cars across the America market.\n",
    "\n",
    "# task::\n",
    "We are required to model the price of cars with the available independent variables. It will be used by the management to understand how exactly the prices vary with the independent variables. They can accordingly manipulate the design of the cars, the business strategy etc. to meet certain price levels. Further, the model will be a good way for management to understand the pricing dynamics of a new market."
   ]
  },
  {
   "cell_type": "markdown",
   "metadata": {
    "id": "xr5BdN8J6BAI"
   },
   "source": [
    "# WORKFLOW ::"
   ]
  },
  {
   "cell_type": "markdown",
   "metadata": {
    "id": "IsIVLK7j6BAK"
   },
   "source": [
    "1.Load Data\n",
    "\n",
    "2.Check Missing Values ( If Exist ; Fill each record with mean of its feature )\n",
    "\n",
    "3.Split into 50% Training(Samples,Labels) , 30% Test(Samples,Labels) and 20% Validation Data(Samples,Labels).\n",
    "\n",
    "4.Model : input Layer (No. of features ), 3 hidden layers including 10,8,6 unit & Output Layer with activation function relu/tanh (check by experiment).\n",
    "\n",
    "5.Compilation Step (Note : Its a Regression problem , select loss , metrics according to it)\n",
    "6.Train the Model with Epochs (100) and validate it\n",
    "\n",
    "7.If the model gets overfit tune your model by changing the units , No. of layers , activation function , epochs , add dropout layer or add Regularizer according to the need .\n",
    "\n",
    "8.Evaluation Step\n",
    "\n",
    "9.Prediction"
   ]
  },
  {
   "cell_type": "markdown",
   "metadata": {
    "id": "u_PakQpi7uUh"
   },
   "source": [
    "Importing Libraries "
   ]
  },
  {
   "cell_type": "code",
   "execution_count": 90,
   "metadata": {
    "id": "8pqHomLI6BAR"
   },
   "outputs": [],
   "source": [
    "import numpy as np\n",
    "import pandas as pd\n",
    "import matplotlib.pyplot as plt\n",
    "import seaborn as sns\n"
   ]
  },
  {
   "cell_type": "code",
   "execution_count": 92,
   "metadata": {
    "colab": {
     "base_uri": "https://localhost:8080/",
     "height": 275
    },
    "id": "Tdt6eBJz6BAY",
    "outputId": "8128c170-27a4-481e-f9c9-197f2d911655"
   },
   "outputs": [
    {
     "data": {
      "text/html": [
       "<div>\n",
       "<style scoped>\n",
       "    .dataframe tbody tr th:only-of-type {\n",
       "        vertical-align: middle;\n",
       "    }\n",
       "\n",
       "    .dataframe tbody tr th {\n",
       "        vertical-align: top;\n",
       "    }\n",
       "\n",
       "    .dataframe thead th {\n",
       "        text-align: right;\n",
       "    }\n",
       "</style>\n",
       "<table border=\"1\" class=\"dataframe\">\n",
       "  <thead>\n",
       "    <tr style=\"text-align: right;\">\n",
       "      <th></th>\n",
       "      <th>car_ID</th>\n",
       "      <th>symboling</th>\n",
       "      <th>CarName</th>\n",
       "      <th>fueltype</th>\n",
       "      <th>aspiration</th>\n",
       "      <th>doornumber</th>\n",
       "      <th>carbody</th>\n",
       "      <th>drivewheel</th>\n",
       "      <th>enginelocation</th>\n",
       "      <th>wheelbase</th>\n",
       "      <th>carlength</th>\n",
       "      <th>carwidth</th>\n",
       "      <th>carheight</th>\n",
       "      <th>curbweight</th>\n",
       "      <th>enginetype</th>\n",
       "      <th>cylindernumber</th>\n",
       "      <th>enginesize</th>\n",
       "      <th>fuelsystem</th>\n",
       "      <th>boreratio</th>\n",
       "      <th>stroke</th>\n",
       "      <th>compressionratio</th>\n",
       "      <th>horsepower</th>\n",
       "      <th>peakrpm</th>\n",
       "      <th>citympg</th>\n",
       "      <th>highwaympg</th>\n",
       "      <th>price</th>\n",
       "    </tr>\n",
       "  </thead>\n",
       "  <tbody>\n",
       "    <tr>\n",
       "      <th>0</th>\n",
       "      <td>1</td>\n",
       "      <td>3</td>\n",
       "      <td>alfa-romero giulia</td>\n",
       "      <td>gas</td>\n",
       "      <td>std</td>\n",
       "      <td>two</td>\n",
       "      <td>convertible</td>\n",
       "      <td>rwd</td>\n",
       "      <td>front</td>\n",
       "      <td>88.6</td>\n",
       "      <td>168.8</td>\n",
       "      <td>64.1</td>\n",
       "      <td>48.8</td>\n",
       "      <td>2548</td>\n",
       "      <td>dohc</td>\n",
       "      <td>four</td>\n",
       "      <td>130</td>\n",
       "      <td>mpfi</td>\n",
       "      <td>3.47</td>\n",
       "      <td>2.68</td>\n",
       "      <td>9.0</td>\n",
       "      <td>111</td>\n",
       "      <td>5000</td>\n",
       "      <td>21</td>\n",
       "      <td>27</td>\n",
       "      <td>13495.0</td>\n",
       "    </tr>\n",
       "    <tr>\n",
       "      <th>1</th>\n",
       "      <td>2</td>\n",
       "      <td>3</td>\n",
       "      <td>alfa-romero stelvio</td>\n",
       "      <td>gas</td>\n",
       "      <td>std</td>\n",
       "      <td>two</td>\n",
       "      <td>convertible</td>\n",
       "      <td>rwd</td>\n",
       "      <td>front</td>\n",
       "      <td>88.6</td>\n",
       "      <td>168.8</td>\n",
       "      <td>64.1</td>\n",
       "      <td>48.8</td>\n",
       "      <td>2548</td>\n",
       "      <td>dohc</td>\n",
       "      <td>four</td>\n",
       "      <td>130</td>\n",
       "      <td>mpfi</td>\n",
       "      <td>3.47</td>\n",
       "      <td>2.68</td>\n",
       "      <td>9.0</td>\n",
       "      <td>111</td>\n",
       "      <td>5000</td>\n",
       "      <td>21</td>\n",
       "      <td>27</td>\n",
       "      <td>16500.0</td>\n",
       "    </tr>\n",
       "    <tr>\n",
       "      <th>2</th>\n",
       "      <td>3</td>\n",
       "      <td>1</td>\n",
       "      <td>alfa-romero Quadrifoglio</td>\n",
       "      <td>gas</td>\n",
       "      <td>std</td>\n",
       "      <td>two</td>\n",
       "      <td>hatchback</td>\n",
       "      <td>rwd</td>\n",
       "      <td>front</td>\n",
       "      <td>94.5</td>\n",
       "      <td>171.2</td>\n",
       "      <td>65.5</td>\n",
       "      <td>52.4</td>\n",
       "      <td>2823</td>\n",
       "      <td>ohcv</td>\n",
       "      <td>six</td>\n",
       "      <td>152</td>\n",
       "      <td>mpfi</td>\n",
       "      <td>2.68</td>\n",
       "      <td>3.47</td>\n",
       "      <td>9.0</td>\n",
       "      <td>154</td>\n",
       "      <td>5000</td>\n",
       "      <td>19</td>\n",
       "      <td>26</td>\n",
       "      <td>16500.0</td>\n",
       "    </tr>\n",
       "    <tr>\n",
       "      <th>3</th>\n",
       "      <td>4</td>\n",
       "      <td>2</td>\n",
       "      <td>audi 100 ls</td>\n",
       "      <td>gas</td>\n",
       "      <td>std</td>\n",
       "      <td>four</td>\n",
       "      <td>sedan</td>\n",
       "      <td>fwd</td>\n",
       "      <td>front</td>\n",
       "      <td>99.8</td>\n",
       "      <td>176.6</td>\n",
       "      <td>66.2</td>\n",
       "      <td>54.3</td>\n",
       "      <td>2337</td>\n",
       "      <td>ohc</td>\n",
       "      <td>four</td>\n",
       "      <td>109</td>\n",
       "      <td>mpfi</td>\n",
       "      <td>3.19</td>\n",
       "      <td>3.40</td>\n",
       "      <td>10.0</td>\n",
       "      <td>102</td>\n",
       "      <td>5500</td>\n",
       "      <td>24</td>\n",
       "      <td>30</td>\n",
       "      <td>13950.0</td>\n",
       "    </tr>\n",
       "    <tr>\n",
       "      <th>4</th>\n",
       "      <td>5</td>\n",
       "      <td>2</td>\n",
       "      <td>audi 100ls</td>\n",
       "      <td>gas</td>\n",
       "      <td>std</td>\n",
       "      <td>four</td>\n",
       "      <td>sedan</td>\n",
       "      <td>4wd</td>\n",
       "      <td>front</td>\n",
       "      <td>99.4</td>\n",
       "      <td>176.6</td>\n",
       "      <td>66.4</td>\n",
       "      <td>54.3</td>\n",
       "      <td>2824</td>\n",
       "      <td>ohc</td>\n",
       "      <td>five</td>\n",
       "      <td>136</td>\n",
       "      <td>mpfi</td>\n",
       "      <td>3.19</td>\n",
       "      <td>3.40</td>\n",
       "      <td>8.0</td>\n",
       "      <td>115</td>\n",
       "      <td>5500</td>\n",
       "      <td>18</td>\n",
       "      <td>22</td>\n",
       "      <td>17450.0</td>\n",
       "    </tr>\n",
       "  </tbody>\n",
       "</table>\n",
       "</div>"
      ],
      "text/plain": [
       "   car_ID  symboling                   CarName  ... citympg highwaympg    price\n",
       "0       1          3        alfa-romero giulia  ...      21         27  13495.0\n",
       "1       2          3       alfa-romero stelvio  ...      21         27  16500.0\n",
       "2       3          1  alfa-romero Quadrifoglio  ...      19         26  16500.0\n",
       "3       4          2               audi 100 ls  ...      24         30  13950.0\n",
       "4       5          2                audi 100ls  ...      18         22  17450.0\n",
       "\n",
       "[5 rows x 26 columns]"
      ]
     },
     "execution_count": 92,
     "metadata": {
      "tags": []
     },
     "output_type": "execute_result"
    }
   ],
   "source": [
    "#Loading data and cheking five rows \n",
    "df_car=pd.read_csv(\"CarPrice_Assignment.csv\")\n",
    "df_car.head()"
   ]
  },
  {
   "cell_type": "code",
   "execution_count": 93,
   "metadata": {
    "id": "2vA5VX-vIZH8"
   },
   "outputs": [],
   "source": [
    "X=df_car.iloc[:,:-1]\n",
    "y=df_car.iloc[:,-1]"
   ]
  },
  {
   "cell_type": "code",
   "execution_count": 94,
   "metadata": {
    "id": "ofuPqYKtAFUI"
   },
   "outputs": [],
   "source": [
    "X.drop(X.select_dtypes(include='object'),axis=1,inplace=True)"
   ]
  },
  {
   "cell_type": "code",
   "execution_count": 95,
   "metadata": {
    "colab": {
     "base_uri": "https://localhost:8080/"
    },
    "id": "WtRy-u2jAQIf",
    "outputId": "c46ae056-7fa6-4d3f-cc07-ef8c74306865"
   },
   "outputs": [
    {
     "name": "stdout",
     "output_type": "stream",
     "text": [
      "Shape of input ==> X :(205, 15)\n",
      "Shape of output ==> Y :(205,) \n"
     ]
    }
   ],
   "source": [
    "print(f\"Shape of input ==> X :{X.shape}\\nShape of output ==> Y :{y.shape} \")"
   ]
  },
  {
   "cell_type": "code",
   "execution_count": 96,
   "metadata": {
    "id": "h_4fte7MAFv8"
   },
   "outputs": [],
   "source": [
    "X_train=X.sample(frac=0.7, replace=True, random_state=1,axis=0)\n",
    "y_train=y.sample(frac=0.7, replace=True, random_state=1,axis=0)"
   ]
  },
  {
   "cell_type": "code",
   "execution_count": 97,
   "metadata": {
    "id": "Vkuu-dDXCim4"
   },
   "outputs": [],
   "source": [
    "X_test=X.sample(frac=0.3, replace=True, random_state=1,axis=0)\n",
    "y_test=y.sample(frac=0.3, replace=True, random_state=1,axis=0)"
   ]
  },
  {
   "cell_type": "code",
   "execution_count": 98,
   "metadata": {
    "colab": {
     "base_uri": "https://localhost:8080/"
    },
    "id": "0sctn8l0WnhH",
    "outputId": "c13f7218-063b-4a83-8898-46bd4d35d2fd"
   },
   "outputs": [
    {
     "name": "stdout",
     "output_type": "stream",
     "text": [
      "shape of training data is :(144, 15)\n",
      "shape of training label is :(144,)\n",
      "shape of testing data is :(62, 15)\n",
      "shape of testing label is :(62,)\n"
     ]
    }
   ],
   "source": [
    "print(f\"shape of training data is :{X_train.shape}\\nshape of training label is :{y_train.shape}\\nshape of testing data is :{X_test.shape}\\nshape of testing label is :{y_test.shape}\")"
   ]
  },
  {
   "cell_type": "code",
   "execution_count": 99,
   "metadata": {
    "id": "ZTHXZxvIXbyL"
   },
   "outputs": [],
   "source": [
    "X_train=np.asarray(X_train).astype(\"float32\")\n",
    "X_test=np.asarray(X_test).astype(\"float32\")"
   ]
  },
  {
   "cell_type": "code",
   "execution_count": 100,
   "metadata": {
    "id": "9AnUOYUp6BAd"
   },
   "outputs": [],
   "source": [
    "mean = X_train.mean(axis=0)\n",
    "X_train-= mean\n",
    "std = X_train.std(axis=0)\n",
    "X_train/= std\n",
    "X_test-= mean\n",
    "X_test/= std"
   ]
  },
  {
   "cell_type": "code",
   "execution_count": 101,
   "metadata": {
    "id": "NLyzGAu56BAf"
   },
   "outputs": [],
   "source": [
    "y_mean = y_train.mean(axis=0)\n",
    "y_train-= y_mean\n",
    "y_std = y_train.std(axis=0)\n",
    "y_train/= y_std\n",
    "y_test-= y_mean\n",
    "y_test/= y_std"
   ]
  },
  {
   "cell_type": "code",
   "execution_count": 102,
   "metadata": {
    "id": "59ZzAIFP6BAg"
   },
   "outputs": [],
   "source": [
    "val_x=X_train[:50]\n",
    "partial_x_train=X_train[50:]\n",
    "val_y=y_train[:50]\n",
    "partial_y_train=y_train[50:]"
   ]
  },
  {
   "cell_type": "code",
   "execution_count": 18,
   "metadata": {
    "id": "-9f1eqA0C_Qv"
   },
   "outputs": [],
   "source": [
    "import tensorflow as tf\n",
    "from keras import models,layers,optimizers,losses"
   ]
  },
  {
   "cell_type": "markdown",
   "metadata": {
    "id": "utih01IN-Pc5"
   },
   "source": [
    "**Data splitting into training**"
   ]
  },
  {
   "cell_type": "code",
   "execution_count": 64,
   "metadata": {
    "id": "G5QjzeN76BAh"
   },
   "outputs": [],
   "source": [
    "X_train=data.sample(frac=0.7, replace=True, random_state=1)\n",
    "y_train=label.sample(frac=0.7, replace=True, random_state=1)"
   ]
  },
  {
   "cell_type": "markdown",
   "metadata": {
    "id": "FSWzZLr8-Zmt"
   },
   "source": [
    "**Data splitting into testing**"
   ]
  },
  {
   "cell_type": "code",
   "execution_count": 65,
   "metadata": {
    "id": "_ElGS9dQ6BAi"
   },
   "outputs": [],
   "source": [
    "X_test=data.sample(frac=0.3, replace=True, random_state=3)\n",
    "y_test=data.sample(frac=0.3, replace=True, random_state=3)"
   ]
  },
  {
   "cell_type": "code",
   "execution_count": 66,
   "metadata": {
    "colab": {
     "base_uri": "https://localhost:8080/"
    },
    "id": "zDmJnLgXGe2D",
    "outputId": "ee271a96-ce8b-4e3d-f744-948a7b96a345"
   },
   "outputs": [
    {
     "name": "stdout",
     "output_type": "stream",
     "text": [
      "shape of traing data:(144, 25)\n",
      "shape of training label:(144,)\n",
      "shape of testing data:(62, 25)\n",
      "shape of testing label:(62, 25)\n"
     ]
    }
   ],
   "source": [
    "print(f\"shape of traing data:{X_train.shape}\\nshape of training label:{y_train.shape}\")\n",
    "print(f\"shape of testing data:{X_test.shape}\\nshape of testing label:{y_test.shape}\")"
   ]
  },
  {
   "cell_type": "code",
   "execution_count": 76,
   "metadata": {
    "id": "Qox-bc9Jcy6t"
   },
   "outputs": [],
   "source": [
    "X_train=np.asarray(X_train).astype(\"float32\")\n",
    "X_test=np.asarray(X_test).astype(\"float32\")"
   ]
  },
  {
   "cell_type": "code",
   "execution_count": 77,
   "metadata": {
    "id": "rVuTsIgHV_IV"
   },
   "outputs": [],
   "source": [
    "mean = X_train.mean(axis=0)\n",
    "X_train-= mean\n",
    "std = X_train.std(axis=0)\n",
    "X_train/= std\n",
    "X_test-= mean\n",
    "X_test/= std"
   ]
  },
  {
   "cell_type": "code",
   "execution_count": 79,
   "metadata": {
    "id": "XVFYE3MBbj7h"
   },
   "outputs": [],
   "source": [
    "val_x=X_train[:50]\n",
    "partial_x_train=X_train[50:]\n",
    "val_y=y_train[:50]\n",
    "partial_y_train=y_train[50:]"
   ]
  },
  {
   "cell_type": "code",
   "execution_count": 103,
   "metadata": {
    "id": "md_BBidwTnAB"
   },
   "outputs": [],
   "source": [
    "network=models.Sequential()\n",
    "network.add(layers.Dense(10,activation=\"relu\" ,input_shape=(X_train.shape[1],)))\n",
    "network.add(layers.Dropout(0.2))\n",
    "network.add(layers.Dense(8,activation=\"relu\"))\n",
    "#network.add(layers.Dropout(0.2))\n",
    "network.add(layers.Dense(6,activation=\"relu\"))\n",
    "network.add(layers.Dense(1))"
   ]
  },
  {
   "cell_type": "code",
   "execution_count": 105,
   "metadata": {
    "id": "sQHjoKIWdL1c"
   },
   "outputs": [],
   "source": [
    "network.compile(optimizer=\"rmsprop\",loss=\"mse\",metrics=[\"mae\"])"
   ]
  },
  {
   "cell_type": "code",
   "execution_count": 106,
   "metadata": {
    "colab": {
     "base_uri": "https://localhost:8080/"
    },
    "id": "UBvvDQtrLlbO",
    "outputId": "b82c2b52-7da8-4215-d663-50f1701b661e"
   },
   "outputs": [
    {
     "name": "stdout",
     "output_type": "stream",
     "text": [
      "Model: \"sequential_7\"\n",
      "_________________________________________________________________\n",
      "Layer (type)                 Output Shape              Param #   \n",
      "=================================================================\n",
      "dense_21 (Dense)             (None, 10)                160       \n",
      "_________________________________________________________________\n",
      "dropout (Dropout)            (None, 10)                0         \n",
      "_________________________________________________________________\n",
      "dense_22 (Dense)             (None, 8)                 88        \n",
      "_________________________________________________________________\n",
      "dense_23 (Dense)             (None, 6)                 54        \n",
      "_________________________________________________________________\n",
      "dense_24 (Dense)             (None, 1)                 7         \n",
      "=================================================================\n",
      "Total params: 309\n",
      "Trainable params: 309\n",
      "Non-trainable params: 0\n",
      "_________________________________________________________________\n"
     ]
    }
   ],
   "source": [
    "network.summary()"
   ]
  },
  {
   "cell_type": "code",
   "execution_count": 107,
   "metadata": {
    "colab": {
     "base_uri": "https://localhost:8080/"
    },
    "id": "xQL5Ll07C6a9",
    "outputId": "82e0ebf9-f9e2-421b-f02c-74abd5600ba5"
   },
   "outputs": [
    {
     "name": "stdout",
     "output_type": "stream",
     "text": [
      "Epoch 1/90\n",
      "77/94 [=======================>......] - ETA: 0s - loss: 1.9725 - mae: 1.1742WARNING:tensorflow:5 out of the last 9 calls to <function Model.make_test_function.<locals>.test_function at 0x7f433b409d40> triggered tf.function retracing. Tracing is expensive and the excessive number of tracings could be due to (1) creating @tf.function repeatedly in a loop, (2) passing tensors with different shapes, (3) passing Python objects instead of tensors. For (1), please define your @tf.function outside of the loop. For (2), @tf.function has experimental_relax_shapes=True option that relaxes argument shapes that can avoid unnecessary retracing. For (3), please refer to https://www.tensorflow.org/guide/function#controlling_retracing and https://www.tensorflow.org/api_docs/python/tf/function for  more details.\n",
      "94/94 [==============================] - 1s 4ms/step - loss: 1.9110 - mae: 1.1572 - val_loss: 1.2467 - val_mae: 0.9265\n",
      "Epoch 2/90\n",
      "94/94 [==============================] - 0s 3ms/step - loss: 0.9363 - mae: 0.8306 - val_loss: 1.0067 - val_mae: 0.8184\n",
      "Epoch 3/90\n",
      "94/94 [==============================] - 0s 3ms/step - loss: 0.7407 - mae: 0.6727 - val_loss: 0.9083 - val_mae: 0.7618\n",
      "Epoch 4/90\n",
      "94/94 [==============================] - 0s 3ms/step - loss: 0.4101 - mae: 0.5233 - val_loss: 0.7532 - val_mae: 0.6957\n",
      "Epoch 5/90\n",
      "94/94 [==============================] - 0s 3ms/step - loss: 0.3896 - mae: 0.5500 - val_loss: 0.5750 - val_mae: 0.6194\n",
      "Epoch 6/90\n",
      "94/94 [==============================] - 0s 3ms/step - loss: 0.3920 - mae: 0.4958 - val_loss: 0.4911 - val_mae: 0.5689\n",
      "Epoch 7/90\n",
      "94/94 [==============================] - 0s 3ms/step - loss: 0.2214 - mae: 0.3719 - val_loss: 0.4017 - val_mae: 0.5095\n",
      "Epoch 8/90\n",
      "94/94 [==============================] - 0s 3ms/step - loss: 0.2262 - mae: 0.3906 - val_loss: 0.3671 - val_mae: 0.4730\n",
      "Epoch 9/90\n",
      "94/94 [==============================] - 0s 3ms/step - loss: 0.1911 - mae: 0.3523 - val_loss: 0.3203 - val_mae: 0.4309\n",
      "Epoch 10/90\n",
      "94/94 [==============================] - 0s 3ms/step - loss: 0.2229 - mae: 0.3390 - val_loss: 0.2730 - val_mae: 0.3950\n",
      "Epoch 11/90\n",
      "94/94 [==============================] - 0s 3ms/step - loss: 0.1310 - mae: 0.3021 - val_loss: 0.2578 - val_mae: 0.3749\n",
      "Epoch 12/90\n",
      "94/94 [==============================] - 0s 3ms/step - loss: 0.1469 - mae: 0.2931 - val_loss: 0.2172 - val_mae: 0.3408\n",
      "Epoch 13/90\n",
      "94/94 [==============================] - 0s 3ms/step - loss: 0.1569 - mae: 0.2938 - val_loss: 0.2415 - val_mae: 0.3520\n",
      "Epoch 14/90\n",
      "94/94 [==============================] - 0s 3ms/step - loss: 0.2619 - mae: 0.3250 - val_loss: 0.2368 - val_mae: 0.3420\n",
      "Epoch 15/90\n",
      "94/94 [==============================] - 0s 3ms/step - loss: 0.1119 - mae: 0.2704 - val_loss: 0.2311 - val_mae: 0.3398\n",
      "Epoch 16/90\n",
      "94/94 [==============================] - 0s 3ms/step - loss: 0.2262 - mae: 0.3061 - val_loss: 0.2717 - val_mae: 0.3668\n",
      "Epoch 17/90\n",
      "94/94 [==============================] - 0s 3ms/step - loss: 0.1129 - mae: 0.2251 - val_loss: 0.2811 - val_mae: 0.3663\n",
      "Epoch 18/90\n",
      "94/94 [==============================] - 0s 3ms/step - loss: 0.1472 - mae: 0.2762 - val_loss: 0.2181 - val_mae: 0.3254\n",
      "Epoch 19/90\n",
      "94/94 [==============================] - 0s 3ms/step - loss: 0.1939 - mae: 0.2920 - val_loss: 0.2151 - val_mae: 0.3243\n",
      "Epoch 20/90\n",
      "94/94 [==============================] - 0s 3ms/step - loss: 0.1100 - mae: 0.2326 - val_loss: 0.2343 - val_mae: 0.3375\n",
      "Epoch 21/90\n",
      "94/94 [==============================] - 0s 3ms/step - loss: 0.1065 - mae: 0.2206 - val_loss: 0.2198 - val_mae: 0.3254\n",
      "Epoch 22/90\n",
      "94/94 [==============================] - 0s 3ms/step - loss: 0.1165 - mae: 0.2258 - val_loss: 0.2333 - val_mae: 0.3361\n",
      "Epoch 23/90\n",
      "94/94 [==============================] - 0s 3ms/step - loss: 0.1935 - mae: 0.2839 - val_loss: 0.2648 - val_mae: 0.3524\n",
      "Epoch 24/90\n",
      "94/94 [==============================] - 0s 3ms/step - loss: 0.1318 - mae: 0.2483 - val_loss: 0.2052 - val_mae: 0.3103\n",
      "Epoch 25/90\n",
      "94/94 [==============================] - 0s 3ms/step - loss: 0.1793 - mae: 0.2868 - val_loss: 0.2401 - val_mae: 0.3343\n",
      "Epoch 26/90\n",
      "94/94 [==============================] - 0s 3ms/step - loss: 0.1942 - mae: 0.2275 - val_loss: 0.2448 - val_mae: 0.3372\n",
      "Epoch 27/90\n",
      "94/94 [==============================] - 0s 3ms/step - loss: 0.1923 - mae: 0.2441 - val_loss: 0.2540 - val_mae: 0.3418\n",
      "Epoch 28/90\n",
      "94/94 [==============================] - 0s 3ms/step - loss: 0.1652 - mae: 0.2655 - val_loss: 0.2454 - val_mae: 0.3364\n",
      "Epoch 29/90\n",
      "94/94 [==============================] - 0s 3ms/step - loss: 0.1051 - mae: 0.2087 - val_loss: 0.2314 - val_mae: 0.3250\n",
      "Epoch 30/90\n",
      "94/94 [==============================] - 0s 3ms/step - loss: 0.1445 - mae: 0.2339 - val_loss: 0.2009 - val_mae: 0.3028\n",
      "Epoch 31/90\n",
      "94/94 [==============================] - 0s 3ms/step - loss: 0.1193 - mae: 0.2293 - val_loss: 0.2100 - val_mae: 0.3086\n",
      "Epoch 32/90\n",
      "94/94 [==============================] - 0s 3ms/step - loss: 0.0514 - mae: 0.1695 - val_loss: 0.2294 - val_mae: 0.3214\n",
      "Epoch 33/90\n",
      "94/94 [==============================] - 0s 3ms/step - loss: 0.1830 - mae: 0.2474 - val_loss: 0.2285 - val_mae: 0.3244\n",
      "Epoch 34/90\n",
      "94/94 [==============================] - 0s 3ms/step - loss: 0.0582 - mae: 0.1834 - val_loss: 0.2883 - val_mae: 0.3552\n",
      "Epoch 35/90\n",
      "94/94 [==============================] - 0s 3ms/step - loss: 0.1196 - mae: 0.2310 - val_loss: 0.2395 - val_mae: 0.3285\n",
      "Epoch 36/90\n",
      "94/94 [==============================] - 0s 3ms/step - loss: 0.0750 - mae: 0.1670 - val_loss: 0.2423 - val_mae: 0.3288\n",
      "Epoch 37/90\n",
      "94/94 [==============================] - 0s 3ms/step - loss: 0.0932 - mae: 0.1962 - val_loss: 0.2319 - val_mae: 0.3246\n",
      "Epoch 38/90\n",
      "94/94 [==============================] - 0s 3ms/step - loss: 0.1365 - mae: 0.2115 - val_loss: 0.2218 - val_mae: 0.3162\n",
      "Epoch 39/90\n",
      "94/94 [==============================] - 0s 3ms/step - loss: 0.3118 - mae: 0.3139 - val_loss: 0.2339 - val_mae: 0.3204\n",
      "Epoch 40/90\n",
      "94/94 [==============================] - 0s 3ms/step - loss: 0.0889 - mae: 0.1906 - val_loss: 0.2329 - val_mae: 0.3199\n",
      "Epoch 41/90\n",
      "94/94 [==============================] - 0s 3ms/step - loss: 0.0925 - mae: 0.2036 - val_loss: 0.2425 - val_mae: 0.3289\n",
      "Epoch 42/90\n",
      "94/94 [==============================] - 0s 3ms/step - loss: 0.1224 - mae: 0.2103 - val_loss: 0.2420 - val_mae: 0.3264\n",
      "Epoch 43/90\n",
      "94/94 [==============================] - 0s 3ms/step - loss: 0.0980 - mae: 0.1961 - val_loss: 0.2251 - val_mae: 0.3170\n",
      "Epoch 44/90\n",
      "94/94 [==============================] - 0s 3ms/step - loss: 0.0810 - mae: 0.1927 - val_loss: 0.2628 - val_mae: 0.3402\n",
      "Epoch 45/90\n",
      "94/94 [==============================] - 0s 3ms/step - loss: 0.2080 - mae: 0.2163 - val_loss: 0.2524 - val_mae: 0.3302\n",
      "Epoch 46/90\n",
      "94/94 [==============================] - 0s 3ms/step - loss: 0.1581 - mae: 0.2319 - val_loss: 0.2345 - val_mae: 0.3225\n",
      "Epoch 47/90\n",
      "94/94 [==============================] - 0s 3ms/step - loss: 0.1459 - mae: 0.2179 - val_loss: 0.2361 - val_mae: 0.3219\n",
      "Epoch 48/90\n",
      "94/94 [==============================] - 0s 3ms/step - loss: 0.1159 - mae: 0.2011 - val_loss: 0.2095 - val_mae: 0.3015\n",
      "Epoch 49/90\n",
      "94/94 [==============================] - 0s 3ms/step - loss: 0.0550 - mae: 0.1657 - val_loss: 0.2376 - val_mae: 0.3195\n",
      "Epoch 50/90\n",
      "94/94 [==============================] - 0s 3ms/step - loss: 0.1003 - mae: 0.1772 - val_loss: 0.2256 - val_mae: 0.3129\n",
      "Epoch 51/90\n",
      "94/94 [==============================] - 0s 3ms/step - loss: 0.1382 - mae: 0.2131 - val_loss: 0.2315 - val_mae: 0.3185\n",
      "Epoch 52/90\n",
      "94/94 [==============================] - 0s 3ms/step - loss: 0.0516 - mae: 0.1640 - val_loss: 0.2738 - val_mae: 0.3396\n",
      "Epoch 53/90\n",
      "94/94 [==============================] - 0s 3ms/step - loss: 0.1138 - mae: 0.1991 - val_loss: 0.2472 - val_mae: 0.3286\n",
      "Epoch 54/90\n",
      "94/94 [==============================] - 0s 3ms/step - loss: 0.1441 - mae: 0.2040 - val_loss: 0.2650 - val_mae: 0.3295\n",
      "Epoch 55/90\n",
      "94/94 [==============================] - 0s 3ms/step - loss: 0.1645 - mae: 0.2184 - val_loss: 0.2288 - val_mae: 0.3074\n",
      "Epoch 56/90\n",
      "94/94 [==============================] - 0s 3ms/step - loss: 0.1138 - mae: 0.2037 - val_loss: 0.2096 - val_mae: 0.2970\n",
      "Epoch 57/90\n",
      "94/94 [==============================] - 0s 3ms/step - loss: 0.2163 - mae: 0.2337 - val_loss: 0.2139 - val_mae: 0.2988\n",
      "Epoch 58/90\n",
      "94/94 [==============================] - 0s 3ms/step - loss: 0.0722 - mae: 0.1576 - val_loss: 0.2153 - val_mae: 0.2973\n",
      "Epoch 59/90\n",
      "94/94 [==============================] - 0s 3ms/step - loss: 0.1002 - mae: 0.1946 - val_loss: 0.1846 - val_mae: 0.2704\n",
      "Epoch 60/90\n",
      "94/94 [==============================] - 0s 3ms/step - loss: 0.0846 - mae: 0.1924 - val_loss: 0.2190 - val_mae: 0.2989\n",
      "Epoch 61/90\n",
      "94/94 [==============================] - 0s 3ms/step - loss: 0.0649 - mae: 0.1557 - val_loss: 0.2060 - val_mae: 0.2868\n",
      "Epoch 62/90\n",
      "94/94 [==============================] - 0s 3ms/step - loss: 0.0794 - mae: 0.1700 - val_loss: 0.2084 - val_mae: 0.2918\n",
      "Epoch 63/90\n",
      "94/94 [==============================] - 0s 3ms/step - loss: 0.0994 - mae: 0.1702 - val_loss: 0.2190 - val_mae: 0.2994\n",
      "Epoch 64/90\n",
      "94/94 [==============================] - 0s 3ms/step - loss: 0.1485 - mae: 0.1932 - val_loss: 0.2009 - val_mae: 0.2894\n",
      "Epoch 65/90\n",
      "94/94 [==============================] - 0s 3ms/step - loss: 0.0679 - mae: 0.1555 - val_loss: 0.2458 - val_mae: 0.3149\n",
      "Epoch 66/90\n",
      "94/94 [==============================] - 0s 3ms/step - loss: 0.0602 - mae: 0.1508 - val_loss: 0.2052 - val_mae: 0.2865\n",
      "Epoch 67/90\n",
      "94/94 [==============================] - 0s 3ms/step - loss: 0.0916 - mae: 0.1665 - val_loss: 0.2239 - val_mae: 0.3049\n",
      "Epoch 68/90\n",
      "94/94 [==============================] - 0s 3ms/step - loss: 0.0515 - mae: 0.1377 - val_loss: 0.2062 - val_mae: 0.2850\n",
      "Epoch 69/90\n",
      "94/94 [==============================] - 0s 3ms/step - loss: 0.3174 - mae: 0.2930 - val_loss: 0.2292 - val_mae: 0.3056\n",
      "Epoch 70/90\n",
      "94/94 [==============================] - 0s 3ms/step - loss: 0.0796 - mae: 0.1587 - val_loss: 0.2015 - val_mae: 0.2884\n",
      "Epoch 71/90\n",
      "94/94 [==============================] - 0s 3ms/step - loss: 0.0928 - mae: 0.1641 - val_loss: 0.2285 - val_mae: 0.2993\n",
      "Epoch 72/90\n",
      "94/94 [==============================] - 0s 3ms/step - loss: 0.0779 - mae: 0.1678 - val_loss: 0.2149 - val_mae: 0.2862\n",
      "Epoch 73/90\n",
      "94/94 [==============================] - 0s 3ms/step - loss: 0.0700 - mae: 0.1652 - val_loss: 0.1896 - val_mae: 0.2745\n",
      "Epoch 74/90\n",
      "94/94 [==============================] - 0s 3ms/step - loss: 0.1096 - mae: 0.2035 - val_loss: 0.1780 - val_mae: 0.2660\n",
      "Epoch 75/90\n",
      "94/94 [==============================] - 0s 3ms/step - loss: 0.1716 - mae: 0.1910 - val_loss: 0.1936 - val_mae: 0.2789\n",
      "Epoch 76/90\n",
      "94/94 [==============================] - 0s 3ms/step - loss: 0.0438 - mae: 0.1463 - val_loss: 0.2043 - val_mae: 0.2888\n",
      "Epoch 77/90\n",
      "94/94 [==============================] - 0s 3ms/step - loss: 0.1042 - mae: 0.2286 - val_loss: 0.1668 - val_mae: 0.2519\n",
      "Epoch 78/90\n",
      "94/94 [==============================] - 0s 3ms/step - loss: 0.1278 - mae: 0.2085 - val_loss: 0.1825 - val_mae: 0.2680\n",
      "Epoch 79/90\n",
      "94/94 [==============================] - 0s 3ms/step - loss: 0.1332 - mae: 0.2016 - val_loss: 0.1785 - val_mae: 0.2645\n",
      "Epoch 80/90\n",
      "94/94 [==============================] - 0s 3ms/step - loss: 0.1006 - mae: 0.1750 - val_loss: 0.1732 - val_mae: 0.2555\n",
      "Epoch 81/90\n",
      "94/94 [==============================] - 0s 3ms/step - loss: 0.1555 - mae: 0.1788 - val_loss: 0.1794 - val_mae: 0.2583\n",
      "Epoch 82/90\n",
      "94/94 [==============================] - 0s 3ms/step - loss: 0.0711 - mae: 0.1688 - val_loss: 0.2506 - val_mae: 0.3144\n",
      "Epoch 83/90\n",
      "94/94 [==============================] - 0s 3ms/step - loss: 0.2885 - mae: 0.2510 - val_loss: 0.1996 - val_mae: 0.2788\n",
      "Epoch 84/90\n",
      "94/94 [==============================] - 0s 3ms/step - loss: 0.0409 - mae: 0.1295 - val_loss: 0.1971 - val_mae: 0.2765\n",
      "Epoch 85/90\n",
      "94/94 [==============================] - 0s 3ms/step - loss: 0.0933 - mae: 0.1830 - val_loss: 0.1820 - val_mae: 0.2671\n",
      "Epoch 86/90\n",
      "94/94 [==============================] - 0s 3ms/step - loss: 0.0645 - mae: 0.1624 - val_loss: 0.1696 - val_mae: 0.2533\n",
      "Epoch 87/90\n",
      "94/94 [==============================] - 0s 3ms/step - loss: 0.0549 - mae: 0.1276 - val_loss: 0.1791 - val_mae: 0.2642\n",
      "Epoch 88/90\n",
      "94/94 [==============================] - 0s 3ms/step - loss: 0.1062 - mae: 0.1694 - val_loss: 0.2043 - val_mae: 0.2818\n",
      "Epoch 89/90\n",
      "94/94 [==============================] - 0s 3ms/step - loss: 0.1395 - mae: 0.1605 - val_loss: 0.1848 - val_mae: 0.2628\n",
      "Epoch 90/90\n",
      "94/94 [==============================] - 0s 3ms/step - loss: 0.0768 - mae: 0.1470 - val_loss: 0.1665 - val_mae: 0.2485\n"
     ]
    }
   ],
   "source": [
    "history=network.fit(partial_x_train, partial_y_train,epochs=90, batch_size=1, verbose=1,validation_data=(val_x,val_y))"
   ]
  },
  {
   "cell_type": "code",
   "execution_count": 108,
   "metadata": {
    "colab": {
     "base_uri": "https://localhost:8080/",
     "height": 295
    },
    "id": "zGN24SHkAC-R",
    "outputId": "7f5a1ca9-37c5-4f33-8a46-a0afd817f669"
   },
   "outputs": [
    {
     "data": {
      "image/png": "[encoded data removed]",
      "text/plain": [
       "<Figure size 432x288 with 1 Axes>"
      ]
     },
     "metadata": {
      "needs_background": "light",
      "tags": []
     },
     "output_type": "display_data"
    }
   ],
   "source": [
    "loss = history.history['loss']\n",
    "val_loss = history.history['val_loss']\n",
    "epochs = range(1, len(loss) + 1)\n",
    "plt.plot(epochs, loss,\"go\",label='Training loss')\n",
    "plt.plot(epochs, val_loss, 'r', label='Validation loss')\n",
    "plt.title('Training and validation loss')\n",
    "plt.xlabel('Epochs')\n",
    "plt.ylabel('Loss')\n",
    "plt.legend()\n",
    "plt.grid()\n",
    "plt.show()"
   ]
  },
  {
   "cell_type": "code",
   "execution_count": 109,
   "metadata": {
    "colab": {
     "base_uri": "https://localhost:8080/"
    },
    "id": "u7PBN2RA6BAj",
    "outputId": "718fc01b-6873-46e2-ca23-279db15d6b30"
   },
   "outputs": [
    {
     "name": "stdout",
     "output_type": "stream",
     "text": [
      "2/2 [==============================] - 0s 7ms/step - loss: 0.1406 - mae: 0.2284\n"
     ]
    },
    {
     "data": {
      "text/plain": [
       "[0.14060644805431366, 0.22840315103530884]"
      ]
     },
     "execution_count": 109,
     "metadata": {
      "tags": []
     },
     "output_type": "execute_result"
    }
   ],
   "source": [
    "network.evaluate(X_test,y_test)"
   ]
  },
  {
   "cell_type": "code",
   "execution_count": 110,
   "metadata": {
    "colab": {
     "base_uri": "https://localhost:8080/"
    },
    "id": "zjHCzdbAZChk",
    "outputId": "e05832a9-41d9-47fe-a917-568349ae8227"
   },
   "outputs": [
    {
     "data": {
      "text/plain": [
       "array([1.0221462], dtype=float32)"
      ]
     },
     "execution_count": 110,
     "metadata": {
      "tags": []
     },
     "output_type": "execute_result"
    }
   ],
   "source": [
    "result_1=network.predict(X_test)\n",
    "result_1[4]"
   ]
  },
  {
   "cell_type": "code",
   "execution_count": 111,
   "metadata": {
    "colab": {
     "base_uri": "https://localhost:8080/",
     "height": 295
    },
    "id": "zksQAV2_6BAk",
    "outputId": "003dddc2-3618-4d0a-b9f2-e8a777df714c"
   },
   "outputs": [
    {
     "data": {
      "image/png": "[encoded data removed]",
      "text/plain": [
       "<Figure size 432x288 with 1 Axes>"
      ]
     },
     "metadata": {
      "needs_background": "light",
      "tags": []
     },
     "output_type": "display_data"
    }
   ],
   "source": [
    "y=result_1\n",
    "y1=range(62)\n",
    "x=y_test\n",
    "plt.scatter(x, y1, label= \"Actual price\", color= \"red\", marker= \"*\", s=100)\n",
    "plt.scatter(y, y1, label= \"Predicted Price\", color= \"blue\", marker= \"+\", s=100)\n",
    "plt.xlabel('Price')\n",
    "plt.ylabel('Rows')\n",
    "plt.title('Actual price vs predicted price!')\n",
    "plt.legend()\n",
    "plt.grid()\n",
    "plt.show()\n"
   ]
  },
  {
   "cell_type": "code",
   "execution_count": 89,
   "metadata": {
    "id": "oEB92xRc6BAk"
   },
   "outputs": [],
   "source": []
  },
  {
   "cell_type": "code",
   "execution_count": 89,
   "metadata": {
    "id": "gUPJ6w7i6BAl"
   },
   "outputs": [],
   "source": []
  },
  {
   "cell_type": "code",
   "execution_count": null,
   "metadata": {
    "id": "bWHw0Ddz6BAl"
   },
   "outputs": [],
   "source": []
  },
  {
   "cell_type": "code",
   "execution_count": null,
   "metadata": {
    "id": "B8xTx7ZX6BAm"
   },
   "outputs": [],
   "source": [
    "\n"
   ]
  },
  {
   "cell_type": "code",
   "execution_count": null,
   "metadata": {
    "id": "PQVKxORQ6BAm"
   },
   "outputs": [],
   "source": []
  },
  {
   "cell_type": "code",
   "execution_count": null,
   "metadata": {
    "id": "tPHGfPTa6BAn"
   },
   "outputs": [],
   "source": []
  },
  {
   "cell_type": "code",
   "execution_count": null,
   "metadata": {
    "id": "rxmVnX4V6BAn"
   },
   "outputs": [],
   "source": [
    "\n"
   ]
  },
  {
   "cell_type": "code",
   "execution_count": null,
   "metadata": {
    "id": "Rm8hHIaP6BAo"
   },
   "outputs": [],
   "source": []
  }
 ],
 "metadata": {
  "accelerator": "GPU",
  "colab": {
   "include_colab_link": true,
   "name": "Car Price Prediction assignment.ipynb",
   "provenance": []
  },
  "kernelspec": {
   "display_name": "Python 3",
   "language": "python",
   "name": "python3"
  },
  "language_info": {
   "codemirror_mode": {
    "name": "ipython",
    "version": 3
   },
   "file_extension": ".py",
   "mimetype": "text/x-python",
   "name": "python",
   "nbconvert_exporter": "python",
   "pygments_lexer": "ipython3",
   "version": "3.8.8"
  }
 },
 "nbformat": 4,
 "nbformat_minor": 1
}
